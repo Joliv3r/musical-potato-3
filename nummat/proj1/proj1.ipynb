{
 "cells": [
  {
   "cell_type": "markdown",
   "id": "fad236c8-694f-4726-b731-f422245237bc",
   "metadata": {
    "tags": []
   },
   "source": [
    "# Project \\#1\n",
    "*Jacob Oliver Bruun*"
   ]
  },
  {
   "cell_type": "code",
   "execution_count": null,
   "id": "bd19cd0b-b7d4-493d-908a-7cd88babb958",
   "metadata": {},
   "outputs": [],
   "source": [
    "# Imports for the whole notebook\n",
    "import numpy as np\n",
    "import matplotlib.pyplot as plt\n",
    "import scipy.fft as fft\n",
    "import scipy.signal as sgn\n",
    "from PIL import Image"
   ]
  },
  {
   "cell_type": "markdown",
   "id": "d477a873-3141-44d0-9ecf-bd450f1e903a",
   "metadata": {
    "tags": []
   },
   "source": [
    "## The (Discret) Fourier Transform"
   ]
  },
  {
   "cell_type": "markdown",
   "id": "758f493b-bff7-4f62-bbc4-267003292d1c",
   "metadata": {},
   "source": [
    "### a)\n",
    "\n",
    "Consider $e^{2\\pi ikx}, k \\in \\mathbb{Z}, x \\in \\mathbb{T}$, then we want to prove that $\\forall k, h \\in \\mathbb{Z}$ we have that\n",
    "\n",
    "$$\n",
    "\\left< e^{2\\pi ik\\cdot}, e^{2\\pi ih\\cdot} \\right> = \\delta_{hk} =  \\left\\lbrace\n",
    "\\begin{array}{ll}\n",
    "1 & , \\text{if } k=h \\\\\n",
    "0 & , \\text{else}.\n",
    "\\end{array}\n",
    "\\right.\n",
    "$$\n",
    "\n",
    "We have the inner product\n",
    "\n",
    "$$\n",
    "\\left< f, g \\right> = \\int_0^1 f(x) \\overline{g(x)} dx.\n",
    "$$\n",
    "\n",
    "By using this definition we find\n",
    "\n",
    "$$\n",
    "\\left< e^{2\\pi ik\\cdot}, e^{2\\pi ih\\cdot} \\right> = \\int_0^1 e^{2\\pi ikx} e^{-2\\pi ihx} dx = \\int_0^1 e^{2\\pi ix(k-h)}dx\n",
    "$$\n",
    "\n",
    "and we can from this easily see that if $k=h$ we have $\\left< e^{2\\pi ik\\cdot}, e^{2\\pi ih\\cdot} \\right> = 1$. Further we will assume $h\\neq k$ and we find that\n",
    "\n",
    "$$\n",
    "\\left< e^{2\\pi ik\\cdot}, e^{2\\pi ih\\cdot} \\right> = \\frac{1}{2\\pi i (k-h)} \\left[ e^{2\\pi i (k-h) x} \\right]_0^1 = \\frac{e^{2\\pi i (k-h)} - 1}{2\\pi i (k-h)}.\n",
    "$$\n",
    "\n",
    "We have that $h, k \\in \\mathbb{Z}$, thus $e^{2 \\pi i (h-k)} = 1$ and we have our result\n",
    "\n",
    "$$\n",
    "\\left< e^{2\\pi ik\\cdot}, e^{2\\pi ih\\cdot} \\right> = \\delta_{hk} =  \\left\\lbrace\n",
    "\\begin{array}{ll}\n",
    "1 & , \\text{if } k=h \\\\\n",
    "0 & , \\text{else}.\n",
    "\\end{array}\n",
    "\\right.\n",
    "$$"
   ]
  },
  {
   "cell_type": "markdown",
   "id": "370b79d9-74d3-47f7-b654-bb320f0ea775",
   "metadata": {},
   "source": [
    "### b)\n",
    "\n",
    "Consider the following functions $\\sqrt{2}\\sin (2\\pi mx)$, $\\cos (2\\pi 0x)$ and $\\sqrt{2} \\cos (2\\pi nx)$ for $m, n \\in \\mathbb{Z}\\backslash \\left\\lbrace 0 \\right\\rbrace, \\; x \\in \\mathbb{T}$. We want to prove that they form an orthonormal system. First we can write up the sine and cosine identities as we will use them further\n",
    "\n",
    "$$\n",
    "\\begin{split}\n",
    "\\sin x &= \\frac{1}{2i} \\left( e^{ix} - e^{-ix} \\right) \\\\\n",
    "\\cos x &= \\frac{1}{2} \\left( e^{ix} + e^{-ix} \\right).\n",
    "\\end{split}\n",
    "$$\n",
    "\n",
    "Now consider the inner product\n",
    "\n",
    "$$\n",
    "\\begin{split}\n",
    "\\left< \\sqrt{2}\\sin (2\\pi m\\cdot), \\sqrt{2}\\cos (2\\pi n \\cdot)\\right>\n",
    "&= \\int_0^1 \\frac{\\sqrt{2}}{2i} \\left( e^{2\\pi mix} - e^{-2\\pi mix} \\right) \\overline{ \\frac{\\sqrt{2}}{2} \\left(e^{2\\pi nix} + e^{-2\\pi nix} \\right) }dx \\\\\n",
    "&= -\\frac{i}{2} \\int_0^1 \\left( e^{2\\pi mix} - e^{-2\\pi mix} \\right) \\left( e^{-2\\pi nix} + e^{2\\pi nix} \\right) dx \\\\\n",
    "&= -\\frac{i}{2} \\int_0^1 \\left( e^{2\\pi (m-n)ix} + e^{2\\pi (m+n)ix} - e^{-2\\pi (m+n)ix} - e^{2\\pi (n-m)ix} \\right) dx \\\\\n",
    "&= 0\n",
    "\\end{split}\n",
    "$$\n",
    "\n",
    "as $m,n \\in \\mathbb{Z}$ an for $m=n$ the terms cancel out. We further check\n",
    "\n",
    "$$\n",
    "\\begin{split}\n",
    "\\left< \\sqrt{2}\\sin (2\\pi m\\cdot), \\sqrt{2}\\sin (2\\pi n \\cdot)\\right>\n",
    "&= \\left< \\frac{\\sqrt{2}}{2i} \\left( e^{2\\pi mi\\cdot } - e^{-2\\pi mi\\cdot } \\right), \\frac{\\sqrt{2}}{2i} \\left( e^{2\\pi ni\\cdot } - e^{-2\\pi ni\\cdot } \\right)\\right> \\\\\n",
    "&= \\overline{\\left( \\frac{\\sqrt{2}}{2i} \\right)} \\frac{\\sqrt{2}}{2i} \\left( \\left< e^{2\\pi mi\\cdot }, e^{2\\pi ni\\cdot } - e^{-2\\pi ni\\cdot } \\right> - \\left< e^{-2\\pi mi\\cdot }, e^{2\\pi ni\\cdot } - e^{-2\\pi ni\\cdot } \\right> \\right) \\\\\n",
    "&= \\frac{1}{2}\\left( \\overline{ \\left<  e^{2\\pi ni\\cdot } - e^{-2\\pi ni\\cdot }, e^{2\\pi mi\\cdot } \\right> } - \\overline{ \\left< e^{2\\pi ni\\cdot } - e^{-2\\pi ni\\cdot }, e^{-2\\pi mi\\cdot }  \\right> } \\right) \\\\\n",
    "&= \\frac{1}{2}\\left[ \\left( \\overline{ \\left<  e^{2\\pi ni\\cdot }, e^{2\\pi mi\\cdot } \\right> - \\left< e^{-2\\pi ni\\cdot }, e^{2\\pi mi\\cdot } \\right> } \\right) - \\left( \\overline{ \\left< e^{2\\pi ni\\cdot } , e^{-2\\pi mi\\cdot }  \\right> - \\left< e^{-2\\pi ni\\cdot }, e^{-2\\pi mi\\cdot }\\right>} \\right) \\right] \\\\\n",
    "&= \\delta_{mn}.\n",
    "\\end{split}\n",
    "$$\n",
    "\n",
    "Further we check, for $n,m \\neq 0$\n",
    "\n",
    "$$\n",
    "\\begin{split}\n",
    "\\left< \\sqrt{2}\\cos (2\\pi m\\cdot), \\sqrt{2}\\cos (2\\pi n \\cdot)\\right>\n",
    "&= \\left< \\frac{\\sqrt{2}}{2} \\left( e^{2\\pi mi\\cdot } + e^{-2\\pi mi\\cdot } \\right), \\frac{\\sqrt{2}}{2i} \\left( e^{2\\pi ni\\cdot } + e^{-2\\pi ni\\cdot } \\right)\\right> \\\\\n",
    "&= \\frac{1}{2}\\left[ \\left( \\overline{ \\left<  e^{2\\pi ni\\cdot }, e^{2\\pi mi\\cdot } \\right> + \\left< e^{-2\\pi ni\\cdot }, e^{2\\pi mi\\cdot } \\right> } \\right) + \\left( \\overline{ \\left< e^{2\\pi ni\\cdot } , e^{-2\\pi mi\\cdot }  \\right> + \\left< e^{-2\\pi ni\\cdot }, e^{-2\\pi mi\\cdot }\\right>} \\right) \\right] \\\\\n",
    "&= \\left\\lbrace\n",
    "\\begin{matrix}\n",
    "    \\delta_{mn} & , m,n\\neq 0, \\\\\n",
    "    2 & , m=n=0.\n",
    "\\end{matrix}\n",
    "\\right.\n",
    "\\end{split}\n",
    "$$\n",
    "\n",
    "Thus we have proven that this is an orthonormal system.\n",
    "\n",
    "\n"
   ]
  },
  {
   "cell_type": "markdown",
   "id": "8f901282-4442-469a-9dfd-df37763d4139",
   "metadata": {},
   "source": [
    "### c)\n",
    "\n",
    "Consider the two spaces\n",
    "\n",
    "$$\n",
    "\\mathcal{T}_n = \\text{span} \\left\\lbrace e^{-2\\pi in \\cdot}, \\dots , e^{2\\pi in \\cdot} \\right\\rbrace = \\left\\lbrace f \\;\\Bigg|\\; f(x) = \\sum_{k=-n}^n c_k e^{2\\pi ikx}, \\text{where } c_{-n}, c_{-n+1}, \\dots , c_n \\in \\mathbb{C} \\right\\rbrace .\n",
    "$$\n",
    "\n",
    "with $c_{-k} = \\overline{c_k}$, and\n",
    "\n",
    "$$\n",
    "\\begin{split}\n",
    "\\mathcal{S}_n\n",
    "&= \\text{span} \\left\\lbrace \\cos (0\\cdot), \\cos (2\\pi\\cdot), \\dots ,\\cos (n\\pi\\cdot), \\sin (2\\pi\\cdot), \\dots , \\sin (2\\pi n\\cdot) \\right\\rbrace \\\\\n",
    "&= \\left\\lbrace f \\;\\Bigg|\\; f(x) = \\frac{a_0}{2} + \\sum_{k=1}^n a_k \\cos (2\\pi kx) + b_k \\sin (2\\pi kx), \\; a_0, \\dots , a_n, b_1, \\dots b_n \\in \\mathbb{R} \\right\\rbrace . \\\\\n",
    "\\end{split}\n",
    "$$\n",
    "\n",
    "We want to find an orthonormal basis for $\\mathcal{S}_n, \\mathcal{T}_n$. We have just shown that the functions $\\sqrt{2}\\sin (2\\pi mx)$, $\\cos (2\\pi 0x)$ and $\\sqrt{2} \\cos (2\\pi nx)$ for $m, n \\in \\mathbb{Z}\\backslash \\left\\lbrace 0 \\right\\rbrace, \\; x \\in \\mathbb{T}$, creates an orthonormal system. We can see that this system is a basis for $\\mathcal{S}_n$ by the span of the space. Thus we have \n",
    "\n",
    "$$\n",
    "\\mathcal{B} = \\left\\lbrace \\sqrt{2} \\cos (0\\cdot), \\sqrt{2}\\cos (2\\pi\\cdot), \\dots , \\sqrt{2}\\cos (2\\pi n\\cdot), \\sqrt{2}\\sin (2\\pi\\cdot), \\dots , \\sqrt{2}\\sin (2\\pi n\\cdot)  \\right\\rbrace\n",
    "$$\n",
    "\n",
    "is an orthonormal basis for $\\mathcal{S}_n$. Now consider\n",
    "\n",
    "$$\n",
    "\\begin{split}\n",
    "e^{2\\pi ik\\cdot} &= \\cos (2\\pi k\\cdot ) + i\\sin (2\\pi k\\cdot) \\\\\n",
    "e^{-2\\pi ik\\cdot} &= \\cos (2\\pi k\\cdot ) - i\\sin (2\\pi k\\cdot).\n",
    "\\end{split}\n",
    "$$\n",
    "\n",
    "From this we can see that $c_{-k} = \\overline{c_k}$, and we can trivially see that every $f\\in \\mathcal{S}_n$ is also in $\\mathcal{T}_n$ and opposite. Thus $\\mathcal{T}_n = \\mathcal{S}_n$, with $\\text{dim } \\mathcal{T}_n = \\text{dim } \\mathcal{S}_n = 2n+1$."
   ]
  },
  {
   "cell_type": "markdown",
   "id": "da9ea942-c2ab-4444-af3b-92635419caec",
   "metadata": {},
   "source": [
    "### d)\n",
    "\n",
    "Let $f \\in \\mathcal{S}_n$, using $\\mathcal{B}$ as a basis, we have that\n",
    "\n",
    "$$\n",
    "f(x) = \\frac{a_0}{2} + a_1\\cos(2\\pi x) + \\dots + a_n\\cos(2\\pi nx) + b_1\\sqrt{2} \\sin(2\\pi) + \\dots + b_n\\sqrt{2} \\sin(2\\pi nx).\n",
    "$$\n",
    "\n",
    "We know that the inner product is additive and we only need to prove that\n",
    "\n",
    "$$\n",
    "a_k = 2\\left< a_k \\cos(2\\pi k\\cdot), \\cos(2\\pi k\\cdot) \\right>, \\; b_k = 2\\left< b_k \\sin(2\\pi k\\cdot), \\sin(2\\pi k\\cdot) \\right>.\n",
    "$$\n",
    "\n",
    "Further we can see that for $k \\neq 0$\n",
    "\n",
    "$$\n",
    "2\\left< a_k \\cos(2\\pi k \\cdot), \\cos(2\\pi k \\cdot) \\right> = a_k \\left< \\sqrt{2} \\cos(2\\pi k \\cdot), \\sqrt{2} \\cos(2\\pi k \\cdot) \\right>\n",
    "$$\n",
    "\n",
    "and trivially the same for $b_k$. Now consider $k = 0$, where we have assumed that the constant takes the form $a_0/2$\n",
    "\n",
    "$$\n",
    "2\\left< \\frac{a_0}{2}, 1 \\right> = \\frac{a_0}{2} \\left< \\sqrt{2}, \\sqrt{2} \\right> = \\frac{a_0}{2}.\n",
    "$$\n",
    "\n",
    "Thus we have proven that these are the Fourier coefficients.\n",
    "\n",
    "\n"
   ]
  },
  {
   "cell_type": "markdown",
   "id": "9f284f75-51e6-44dc-9fb2-c278ce4d0a15",
   "metadata": {},
   "source": [
    "### e)\n",
    "\n",
    "We have equidistant points $x_0,\\dots, x_{N-1}, \\; x_j = j/N, \\; j=0,\\dots, N,\\;\\; N\\in\\mathbb{N}$, that we want to use to approximate $c_k (f)$. The composite trapezoidal rule states that\n",
    "\n",
    "$$\n",
    "\\int_a^b f(x) \\approx\n",
    "\\frac{\\Delta x_k}{2} \\left( f_0 + 2 \\sum_{j=1}^{N-1} f_j e^{2\\pi ikx_j} + f_N \\right)\n",
    "$$\n",
    "\n",
    "Using the definition of $c_k$ and we know that $f_0 = f_N$ by our initial assumption, we fund that\n",
    "\n",
    "$$\n",
    "c_k(f) = \\left< f, e^{2\\pi ik\\cdot} \\right>\n",
    "= \\int_{0}^{1} f(x) e^{-2\\pi ikx} dx\n",
    "\\approx \\Delta x_k \\sum_{j=1}^{N-1} f_j e^{-2\\pi ikx_j} = \\frac{1}{N} \\sum_{j=1}^{N-1} f_j e^{-2\\pi ijk/N}\n",
    "$$\n",
    "\n",
    "and we hve our desired result. We know that $e^x$ is $2\\pi$-periodic, thus $e^{2\\pi ijk/N}$ must be $N$-periodic, and one of our initial assumptions was that $f$ is periodic over its interval, thus $f$ is also $N$-periodic and $\\hat{f}$ must be $N$-periodic.\n",
    "\n",
    "\n",
    "\n"
   ]
  },
  {
   "cell_type": "markdown",
   "id": "afc64d91-03fd-4ef2-bdf8-1469699fd514",
   "metadata": {},
   "source": [
    "### f)\n",
    "     \n",
    "Now let $N\\in \\mathbb{N}, k \\in \\mathbb{Z}$. We consider\n",
    "\n",
    "$$\n",
    "\\frac{1}{N} \\sum_{j=0}^{N-1} e^{-2\\pi ijk/N}.\n",
    "$$\n",
    "\n",
    "as we know $e^{2\\pi ih} = 1$ for $h \\in\\mathbb{Z}$. If $k \\equiv 0 \\mod N$ we have that $k/N \\in \\mathbb{Z}$ and the sum equals $N$ and $\\hat{f}_k = 1$. In the opposite case when $k \\not\\equiv 0 \\mod N$ we first assume $N = 2h+1$ for any $h\\in \\mathbb{N}$, then we can write the sum\n",
    "\n",
    "$$\n",
    "\\sum_{j=0}^{N-1} e^{-2\\pi ijk/N} = \\sum_{j=0}^{h} \\left( e^{-2\\pi ijk/N} + e^{-2\\pi ij(h+k)/N} \\right) = 0\n",
    "$$\n",
    "\n",
    "since each term has a $\\pi$ difference in the exponent they sum to 0. Now consider $N = 2h$ for any $h\\in\\mathbb{Z}$\n",
    "\n",
    "$$\n",
    "\\sum_{j=0}^{N-1} e^{-2\\pi ijk/N} = 1 + \\sum_{j=1}^{h-1} \\left( e^{-\\pi ijk/h} + e^{\\pi ijk/h} \\right)\n",
    "$$\n",
    "\n",
    "since $jk\\in \\mathbb{Z}$ we have that this also must equal 0."
   ]
  },
  {
   "cell_type": "markdown",
   "id": "605efe10-c847-4896-af86-9696dc044e4d",
   "metadata": {},
   "source": [
    "### g)\n",
    "\n",
    "We now construct a matrix where $\\hat{\\boldsymbol{f}} = \\frac{1}{N} \\mathcal{F}_N \\boldsymbol{f}$ with $\\mathcal{F} \\in\\mathbb{C}^{N\\times N}$ given by\n",
    "\n",
    "$$\n",
    "\\mathcal{F}_N = \\left( e^{2\\pi ikl/N} \\right)_{k,l=0}^{N-1}.\n",
    "$$\n",
    "\n",
    "Now we introdce the cirulant matrix. Let $\\boldsymbol{a} = (a_0, \\dots , a_{N-1})^T $ we then have\n",
    "\n",
    "$$\n",
    "\\text{circ } \\boldsymbol{a} = \\left( a_{k-l \\mod N} \\right)_{k,l=0}^{N-1} = \n",
    "\\begin{pmatrix}\n",
    "    a_0 & a_{N-1} & \\dots & a_2 & a_1 \\\\\n",
    "    a_1 & a_0 & \\dots & a_3 & a_2 \\\\\n",
    "    \\vdots & & \\ddots & & \\vdots \\\\\n",
    "    a_{N-1} & a_{N-2} & \\dots & a_1 & a_0 \\\\\n",
    "\\end{pmatrix}.\n",
    "$$\n",
    "\n",
    "We will show that\n",
    "\n",
    "$$\n",
    "\\text{circ } \\boldsymbol{a} = \\frac{1}{N} \\overline{\\mathcal{F}_N} \\text{diag}(\\hat{\\boldsymbol{a}}) \\mathcal{F}_N.\n",
    "$$\n",
    "\n",
    "We consider the $k$-th entry and using $w = e^{-2\\pi i/N}$, we find that\n",
    "\n",
    "$$\n",
    "\\begin{split}\n",
    "\\hat{a}_k &= \\left[ \\mathcal{F}_N \\boldsymbol{a} \\right]_k = \\sum_{r=0}^{N-1} a_r w^{kr} \\\\\n",
    "\\left[ \\text{diag }\\hat{\\boldsymbol{a}} F_N \\right]_{kl} &= \\hat{a}_k w^{kl} = w^{kl} \\sum_{r=0}^{N-1} a_r w^{kr} \\\\\n",
    "\\left[ \\overline{\\mathcal{F}}_N \\text{diag }\\hat{\\boldsymbol{a}} \\mathcal{F}_N \\right]_{kl}\n",
    "&= \\sum_{r=0}^{N-1} w^{-kr} w^{rl} \\sum_{j=0}^{N-1} a_j w^{rj}\n",
    "= \\sum_{j=0}^{N-1} a_j \\sum_{r=0}^{N-1} w^{r(j+l-k)}.\n",
    "\\end{split}\n",
    "$$\n",
    "\n",
    "For the last sum to be nonzero we must have $j+l-k \\equiv 0 \\mod N$ by our previous result. Thus $j \\equiv k-l \\mod N$ and for this $a_j$ sums $N$ times, we can therefore conclude that\n",
    "\n",
    "$$\n",
    "\\frac{1}{N} \\overline{\\mathcal{F}}_N \\text{diag }\\hat{\\boldsymbol{a}} \\mathcal{F}_N\n",
    "= \\left( a_{j \\equiv k-l \\mod N} \\right)_{k,l=0}^{N-1} = \\text{circ } \\boldsymbol{a}.\n",
    "$$\n",
    "\n",
    "Now consider the $kl$-th element, we can see that\n",
    "\n",
    "$$\n",
    "\\left[ \\overline{\\mathcal{F}}_N \\mathcal{F}_N \\right] _{kl} = \\sum_{j=0}^{N-1} w^{(k-l)j}\n",
    "$$\n",
    "\n",
    "which is 1 only for $k-l = 0$ and 0 otherwise. Similar logic holds the other way also, thus $\\overline{\\mathcal{F}} = \\mathcal{F}^{-1}$. We can also from this conclude that the Fourier function does indeed diagonalise $\\text{circ } \\boldsymbol{a}$."
   ]
  },
  {
   "cell_type": "markdown",
   "id": "9d4f8374-751f-450b-8f0a-2dcabb46357b",
   "metadata": {
    "tags": []
   },
   "source": [
    "### h)"
   ]
  },
  {
   "cell_type": "markdown",
   "id": "f1043812-f8bd-44ee-b581-e7ad2b5515dd",
   "metadata": {},
   "source": [
    "We define `transform(f, N, start=0.0)` which discretises the given function in $N$ samples."
   ]
  },
  {
   "cell_type": "code",
   "execution_count": null,
   "id": "3281cc3d-9065-44a1-8043-82967174b83b",
   "metadata": {},
   "outputs": [],
   "source": [
    "def transform(f, N, start=0.0):\n",
    "    \"\"\"\n",
    "    Returns N samples of f starting from start, assuming period of 1.\n",
    "    \"\"\"\n",
    "    stop = start+1\n",
    "    x = np.linspace(start, stop, N, endpoint=False)\n",
    "    return f(x)"
   ]
  },
  {
   "cell_type": "code",
   "execution_count": null,
   "id": "2f48db74-6b78-4298-ad80-816e3d2a9bb7",
   "metadata": {},
   "outputs": [],
   "source": [
    "# Defines the functions we will use further.\n",
    "\n",
    "def f1(x):\n",
    "    return np.sin(8*np.pi*x)\n",
    "\n",
    "\n",
    "def f2(x):\n",
    "    return np.sin(32*np.pi*x) + np.cos(128*np.pi*x)\n",
    "\n",
    "\n",
    "def f3(x):\n",
    "    return x\n",
    "\n",
    "\n",
    "def f4(x):\n",
    "    return 1-np.absolute(x)"
   ]
  },
  {
   "cell_type": "code",
   "execution_count": null,
   "id": "e101df5e-06cf-4e5a-a06d-c21f1f4d4dfe",
   "metadata": {},
   "outputs": [],
   "source": [
    "N = [5, 17, 257]\n",
    "f = [f1, f2, f3, f4]\n",
    "\n",
    "for k, i in enumerate(f):\n",
    "    x = np.linspace(-.5, .5, N[-1])\n",
    "    fig, axs = plt.subplots(2,2)\n",
    "    axs[0,0].plot(x, i(x))\n",
    "    axs[0,0].set_title(f\"$f_{k+1}$\")\n",
    "    for l, j in enumerate(N):\n",
    "        y = transform(i, j, -.5)\n",
    "        c = fft.fft(y)\n",
    "        n = np.arange(j)\n",
    "        a = c.real\n",
    "        b = c.imag\n",
    "        r = 0\n",
    "        if l+1 > 1:\n",
    "            # To make the plots show up in correct subplot.\n",
    "            r = 1\n",
    "            l -= 2\n",
    "        axs[r,l+1].plot(n, a, 'b', label=\"$R(\\hat{f})$\")\n",
    "        axs[r,l+1].plot(n, b, '--y', label=\"$I(\\hat{f})$\")\n",
    "        axs[r,l+1].set_title(f\"$c_k(f_{k+1})$ with $N={j}$\")\n",
    "        axs[r, l+1].legend()\n",
    "    fig.tight_layout()\n",
    "    plt.show()"
   ]
  },
  {
   "cell_type": "markdown",
   "id": "d5256c40-aea4-4e58-b55a-34f6cc77b910",
   "metadata": {},
   "source": [
    "The yellow dotted line corresponds to the complex value of the Fourier coefficients and the blue to the real part. We know that for $f_1, f_2$ the Fourier series may be exactly these functions, and therefore it makes sense that these can be approximated well once we pass their inner coefficient. In addition we can see that the two other functions have a completely different structure to $f_1, f_2$ in their coefficients, this means that they must need a large number of coefficients to be represented."
   ]
  },
  {
   "cell_type": "markdown",
   "id": "72fa978b-2d67-4334-aa37-3266927807e8",
   "metadata": {
    "tags": []
   },
   "source": [
    "### i)"
   ]
  },
  {
   "cell_type": "markdown",
   "id": "4ec22615-95da-431d-8c7d-b2675197a4d4",
   "metadata": {},
   "source": [
    "We are looking at the function\n",
    "\n",
    "$$\n",
    "f_2(x) = \\sin (32\\pi x) + \\cos (128\\pi x)\n",
    "$$\n",
    "\n",
    "we can easily see that $a_{64} = 1, b_{16} = 1$ and all other coefficients are 0. This since we look at periodicity over an interval of one and we must factor out $2\\pi$. We can use that $c_k = (a_k - ib_k)/2, \\; k > 0$ and $c_k = (a_{-k} + ib_{-k})/2, \\; k < 0$. We then find\n",
    "\n",
    "$$\n",
    "c_{-64} = \\frac{1}{2}, \\; c_{64} = \\frac{1}{2}, \\; c_{-16} = \\frac{i}{2}, \\; c_{16} = -\\frac{i}{2}.\n",
    "$$\n",
    "\n",
    "Further we know that the `fftshift` function only shifts the array. Since `fft` gives an array with coefficients $(c_0, c_1, \\dots c_{\\lfloor N/2 \\rfloor}, c_{-\\lfloor N/2 \\rfloor}, \\dots , c_{-1})$ and by using `fftshift` you will shift the array to take the form $(c_{-\\lfloor N/2 \\rfloor}, \\dots , c_{-1}, c_0, c_1, \\dots c_{\\lfloor N/2 \\rfloor})$."
   ]
  },
  {
   "cell_type": "code",
   "execution_count": null,
   "id": "907b969e-f601-48d1-b0ea-0505d99c993b",
   "metadata": {},
   "outputs": [],
   "source": [
    "N = [17, 65, 257]\n",
    "\n",
    "for i in N:\n",
    "    y = fft.fftshift(fft.fft(transform(f2, i, -.5)))\n",
    "    n = np.arange(-(i-1)/2, (i-1)/2+1)\n",
    "    a = y.real\n",
    "    b = y.imag\n",
    "    plt.plot(n, a, 'b', label=\"Real\")\n",
    "    plt.plot(n, b, '--y', label=\"Imag\")\n",
    "    plt.legend()\n",
    "    plt.title(f\"$f_2$ with $N={i}$\")\n",
    "    plt.show()"
   ]
  },
  {
   "cell_type": "markdown",
   "id": "280e263d-bd94-4edc-a1f7-bcc22c59e931",
   "metadata": {},
   "source": [
    "We know that the cosine function is completely represented by the real frequncy spikes, and by removing this we find that we have removed this summand completely as shown in the next code block. In $\\mathbb{C}^{17}$ there are too few constants, so the signal is not represented totally and both spikes help represent both waves."
   ]
  },
  {
   "cell_type": "code",
   "execution_count": null,
   "id": "002b2eaf-89c8-4451-99f6-0e19b81d832f",
   "metadata": {},
   "outputs": [],
   "source": [
    "y[64] = 0\n",
    "y[-65] = 0\n",
    "x = np.linspace(-.5, .5, i, endpoint=False)\n",
    "plt.plot(x, fft.ifft(fft.ifftshift(y)).real)\n",
    "plt.title(\"Fourier series of $f_2$ with $c_{\\pm 64} = 0$\")\n",
    "plt.show()"
   ]
  },
  {
   "cell_type": "markdown",
   "id": "bfe7e2d9-34e8-4e50-8221-7121d783b91c",
   "metadata": {},
   "source": [
    "## Signal Processing"
   ]
  },
  {
   "cell_type": "markdown",
   "id": "6af565e8-3856-41a7-8fb9-bf5873e606ec",
   "metadata": {},
   "source": [
    "### a)\n",
    "\n",
    "We define a cyclic convolution of $\\boldsymbol{a}, \\boldsymbol{b} \\in \\mathbb{R}^N$ entrywise for all $j = 0, \\dots , N-1$ by\n",
    "\n",
    "$$\n",
    "c_j = (\\boldsymbol{a} * \\boldsymbol{b})_j = \\sum_{k=0}^{N-1} a_k b_{j-k \\mod N}.\n",
    "$$\n",
    "\n",
    "Consider a shift such that $\\boldsymbol{b}' = (b_{N-1}, b_0, \\dots , b_{N-2})$. We can then find\n",
    "\n",
    "$$\n",
    "c'_j = (\\boldsymbol{a} * \\boldsymbol{b}')_j = \\sum_{k=0}^{N-1} a_k b_{j-k-1 \\mod N} = c_{j-1 \\mod N}.\n",
    "$$"
   ]
  },
  {
   "cell_type": "markdown",
   "id": "140e72a8-d137-4829-9eb6-3b3278204942",
   "metadata": {},
   "source": [
    "### b)\n",
    "\n",
    "Consider $f,g \\in L_1(\\mathbb{T})$ and for any $k\\in \\mathbb{Z}$ we will show that\n",
    "\n",
    "$$\n",
    "c_k (f*g) = c_k (f) c_k (g).\n",
    "$$\n",
    "\n",
    "From the definition of the Fouier coefficients we can write that\n",
    "\n",
    "$$\n",
    "\\begin{split}\n",
    "c_k (f*g) &= \\int_0^1 (f*g)(x) e^{-2\\pi ikx}dx \\\\\n",
    "&= \\int_0^1 \\left( \\int_0^1 f(y) g(x-y)dy \\right) e^{-2\\pi ikx}dx \\\\\n",
    "&= \\int_0^1 \\left( \\int_0^1 g(x-y)e^{-2\\pi ik(x-y)} dx \\right) f(y) e^{-2\\pi iky} dy \\\\\n",
    "&= \\int_0^1 \\left( \\int_0^1 g(t)e^{-2\\pi ik(t)} dt \\right) f(y) e^{-2\\pi iky} dy \\\\\n",
    "&= c_k(f) c_k(g).\n",
    "\\end{split}\n",
    "$$\n",
    "\n",
    "Since $g$ is cyclic with a period of 1 we can do this substitution without considering the boundaries over the integral. Further for any signal we want to show that\n",
    "\n",
    "$$\n",
    "\\widehat{( \\boldsymbol{a} * \\boldsymbol{b} )} = \\hat{\\boldsymbol{a}} \\circ \\hat{\\boldsymbol{b}}.\n",
    "$$\n",
    "\n",
    "We consider the $j$-th element\n",
    "    \n",
    "$$\n",
    "\\begin{split}\n",
    "\\widehat{(\\boldsymbol{a} * \\boldsymbol{b})}_j &= \\sum_{r=0}^{N-1} \\sum_{k=0}^{N-1} w^{rj} a_k b_{j-k \\mod N} \\\\\n",
    "&= \\sum_{k=0}^{N-1} a_k w^{jk} \\sum_{r=0}^{N-1} b_{j-k \\mod N} w^{k (j-r \\mod N)} \\\\\n",
    "&= \\hat{a}_k \\hat{b}_k \n",
    "\\end{split}\n",
    "$$\n",
    "\n",
    "Thus we have our desired result. Using this and the diagonlisation of the circulant matrix we have\n",
    "\n",
    "$$\n",
    "\\begin{split}\n",
    "(\\text{circ } \\boldsymbol{a}) (\\text{circ } \\boldsymbol{b}) &= \\frac{1}{N^2} \\overline{\\mathcal{F}}_N \\text{diag }\\hat{\\boldsymbol{a}} \\mathcal{F}_N \\overline{\\mathcal{F}}_N \\text{diag }\\hat{\\boldsymbol{b}} \\mathcal{F}_N \\\\\n",
    "&= \\frac{1}{N^2} \\overline{\\mathcal{F}}_N \\text{diag }\\hat{\\boldsymbol{a}} \\text{diag }\\hat{\\boldsymbol{b}} \\mathcal{F}_N \\\\\n",
    "&= \\frac{1}{N^2} \\overline{\\mathcal{F}}_N \\text{diag }\\left\\lbrace \\hat{\\boldsymbol{a}} \\circ \\hat{\\boldsymbol{b}} \\right\\rbrace \\mathcal{F}_N. \\\\\n",
    "&= \\frac{1}{N^2} \\overline{\\mathcal{F}}_N \\text{diag }\\left\\lbrace \\widehat{\\boldsymbol{a} * \\boldsymbol{b}} \\right\\rbrace \\mathcal{F}_N. \\\\\n",
    "&= \\text{circ } (\\boldsymbol{a}*\\boldsymbol{b})\n",
    "\\end{split}\n",
    "$$"
   ]
  },
  {
   "cell_type": "markdown",
   "id": "42a3abca-3f25-4351-93b5-26d9fd9f8fad",
   "metadata": {},
   "source": [
    "### c)\n",
    "\n",
    "Consider the Dirichlet kernel\n",
    "\n",
    "$$\n",
    "D_n (x) = 1 + 2 \\sum_{k=1}^n \\cos (2\\pi kx) = 1 + \\sum_{k=1}^n \\left( e^{2\\pi ikx} + e^{-2\\pi ikx} \\right) , n\\in\\mathbb{N}.\n",
    "$$\n",
    "\n",
    "We know want to find the Fourier coefficients\n",
    "\n",
    "$$\n",
    "\\begin{split}\n",
    "c_k (D_n) &= \\int_0^1 D_n (x) e^{-2\\pi ikx} dx \\\\\n",
    "&= \\int_0^1 \\left[ e^{2\\pi ikx} + \\sum_{j=1}^{n} \\left( e^{2\\pi i(j-k)x} + e^{-2\\pi i(k+j)x} \\right)  \\right]dx \\\\\n",
    "&= \\int_0^1 e^{-2\\pi ikx} dx + \\sum_{j=1}^n \\int_0^1 e^{2\\pi i(j-k)x}dx + \\sum_{j=1}^n \\int_0^1 e^{-2\\pi i(j+k)x} dx. \\\\\n",
    "\\end{split}\n",
    "$$\n",
    "\n",
    "We have earlier shown that the integral is 0 for all non-zero exponents and 1 otherwise. We therefore have $c_k (D_n) = 1, \\forall |k| \\leq n$, else $c_k (D_n) = 0$. Let us discretise the Dirichlet-kernel and we find that by equidistant samples $d_j = D_n(j/N)$ we have that\n",
    "\n",
    "$$\n",
    "\\hat{d}_j = \\sum_{k=0}^{N-1} d_k w^{jk} = \\sum_{k=0}^{N-1} \\sum_{l=-n}^{n} w^{k(j+l)}.\n",
    "$$\n",
    "\n",
    "We can see that all elements of $\\hat{\\boldsymbol{d}}$ is the same and therefore extremely easy to implement in code. We have now shown that to find a convolution, we can mutliply pointwise in the Fourier domain. If we define the filters directly in the fourier domain, we do not need to do a Fourier transformation of this data, and we will spare one Fourier transformation."
   ]
  },
  {
   "cell_type": "markdown",
   "id": "82845d57-b9e7-4f12-bca7-2e311de8b075",
   "metadata": {
    "tags": []
   },
   "source": [
    "### d)\n",
    "\n",
    "First we define the function `dirichlet_dft(N, n)`. This function uses the property that all elements of $\\hat{\\boldsymbol{d}}$ is equal to find the discret Fourier transform of $D_n$ and zero pads the output to make the output $N$ long."
   ]
  },
  {
   "cell_type": "code",
   "execution_count": null,
   "id": "6ee26c71-de5a-4eea-81e9-6e0e52d8f7fa",
   "metadata": {},
   "outputs": [],
   "source": [
    "def dirichlet_dft(N, n):\n",
    "    \"\"\"\n",
    "    Returns an N long discret Fourier transform of D_n which is zero padded.\n",
    "    \"\"\"\n",
    "    dn = np.zeros(N)\n",
    "    dn[:n] = 1\n",
    "    return dn"
   ]
  },
  {
   "cell_type": "code",
   "execution_count": null,
   "id": "e44db5ec-a170-4af4-8786-bf5304ddb7de",
   "metadata": {},
   "outputs": [],
   "source": [
    "N = 512\n",
    "n = 48\n",
    "\n",
    "y = transform(f2, N)\n",
    "c = fft.fft(y)\n",
    "dn = dirichlet_dft(N, n)\n",
    "convolution = c*dn\n",
    "ny = fft.ifft(convolution)\n",
    "k = np.arange(-np.floor(N/2), np.floor(N/2))\n",
    "\n",
    "\n",
    "x = np.linspace(0, 1, N, endpoint=False)\n",
    "plt.plot(x, ny.real)\n",
    "plt.title(f\"$f_2 * D_{ {n} }$\")\n",
    "plt.show()"
   ]
  },
  {
   "cell_type": "markdown",
   "id": "dc2afd7a-442f-444c-b886-b6272af66d42",
   "metadata": {},
   "source": [
    "We can see that the convolution do not contain the second summand of the function. We can show that $f*D_n = S_n f$, where $S_n f$ is the Fourier series of $f$ up to $k=n$. Since the second summand of the function is the $n < k$-th summand in the Fourier series it should dissapear. We can also notice on the axis that the amplitude is way larger then it should be. This is because of the implementation of the Dirichlet-kernel. Further we will only check the form of the graph and not the size."
   ]
  },
  {
   "cell_type": "markdown",
   "id": "a8bffcc9-6f3f-4377-a5ea-f585e99c06fe",
   "metadata": {},
   "source": [
    "### e)\n",
    "\n",
    "As these are quite small data sets and images we will use `scipy.signal.fftconvolve` to do convolutions with kernels that are not the Dirichlet-kernel as it is easier to implement and does not take much longer time and resources."
   ]
  },
  {
   "cell_type": "code",
   "execution_count": null,
   "id": "6a0302f1-387b-41dc-be1d-082ae5db4339",
   "metadata": {},
   "outputs": [],
   "source": [
    "data = np.loadtxt(\"project1-1e-data.csv\", delimiter=',', skiprows=1)\n",
    "x = data[:,0]\n",
    "signal = data[:,1]\n",
    "N = len(signal)\n",
    "n = 92\n",
    "h = np.zeros(N)\n",
    "h[0] = -1\n",
    "h[1] = 2\n",
    "h[2] = -1\n",
    "\n",
    "plt.plot(x, signal)\n",
    "plt.title(\"The given signal\")\n",
    "plt.show()\n",
    "\n",
    "c = fft.fft(signal)\n",
    "k = np.arange(N, dtype=complex)\n",
    "dn = dirichlet_dft(N, n)\n",
    "convolve_d = dn*c\n",
    "\n",
    "plt.plot(x, fft.ifft(convolve_d))\n",
    "plt.title(f\"Signal convolved with $D_{ {n} }$\")\n",
    "plt.show()\n",
    "\n",
    "convolve_h = sgn.fftconvolve(h, signal)\n",
    "plt.plot(x, convolve_h[:N])\n",
    "plt.title(\"Signal convolved with $\\mathbf{h}$\")\n",
    "plt.show()"
   ]
  },
  {
   "cell_type": "markdown",
   "id": "788e5084-2c03-4035-ac79-498502540538",
   "metadata": {},
   "source": [
    "By first considering the convolution with the Dirichlet-kernel, we can see that this is an approximation of the given signal. This convolution is not directly useful to get any information, however this convolution can show us what frequencies that appear in the signal and can be very useful for reconstructing it or denoising. The convolution with $\\boldsymbol{h} = (-1, 2, -1, 0, \\dots, 0)^T$ shows spikes around sudden jumps in the signal. We can use this to identify discontinuity in the signal."
   ]
  },
  {
   "cell_type": "markdown",
   "id": "65ecc4f0-fc20-420f-8828-00a8883ffbac",
   "metadata": {},
   "source": [
    "### g)\n",
    "Since convolution is just elementwise multiplication in the frequencies, we can have the filter be zero in all non relevant slots, and 1 in all relevant ones. In this case we can construct it as $a_k = 1$ for $40 \\leq |k| \\leq 64$ and $0$ elsewhere. "
   ]
  },
  {
   "cell_type": "markdown",
   "id": "11e80503-9890-4fd6-b511-669f2e92de97",
   "metadata": {
    "tags": []
   },
   "source": [
    "## Image Processing"
   ]
  },
  {
   "cell_type": "markdown",
   "id": "a40a0bdd-243c-43c0-9a3a-4779514dcff7",
   "metadata": {},
   "source": [
    "### a)\n",
    "We now define the multivariate Fourier transform as\n",
    "\n",
    "$$\n",
    "\\hat{F}_{k_1, k_2} = \\sum_{j_1 = 0}^{N_1-1} \\sum_{j_2 = 0}^{N_2-1} F_{j_1, j_2} \\exp\\left\\lbrace -2\\pi i \\left( \\frac{j_1 k_1}{N_1} + \\frac{j_2 k_2}{N_2} \\right) \\right\\rbrace, \\;\\; k_1 = 0, \\dots N_1-1, k_2 = 0, \\dots N_2-1.\n",
    "$$\n",
    "\n",
    "We can further see that for $\\boldsymbol{k} = (k_1, k_2)$ \n",
    "\n",
    "$$\n",
    "\\hat{F}_{\\boldsymbol{k}} = \\sum_{j_1=0}^{N_1-1}\\sum_{j_2=0}^{N_2-1} F_{j_1,j_2} e^{-2\\pi ij_1 k_1 / N_1} e^{-2\\pi ij_2 k_2 / N_2}\n",
    "= \\sum_{j_1=0}^{N_1-1} e^{-2\\pi ij_1 k_1 / N_1} \\sum_{j_2=0}^{N_2-1} F_{j_1,j_2} e^{-2\\pi ij_2 k_2 / N_2}.\n",
    "$$\n",
    "\n",
    "This corresponds to two transforms, the first one with $\\mathcal{O} (N_1 N_2 \\log N_2)$ and the second one with $\\mathcal{O} (N_1 N_2 \\log N_1)$. Thus we can find the total speed\n",
    "\n",
    "$$\n",
    "\\mathcal{O} (N_1 N_2 \\log N_2) + \\mathcal{O} (N_1 N_2 \\log N_1) = \\mathcal{O} (N_1 N_2 \\log(N_1 N_2))\n",
    "$$"
   ]
  },
  {
   "cell_type": "markdown",
   "id": "f4ca4735-8410-4be3-b70d-91cf09799923",
   "metadata": {},
   "source": [
    "### b)\n",
    "\n",
    "Let $f_i (\\boldsymbol{x}) = 1 + 1/2 \\sin (2\\pi \\boldsymbol{x}^T \\boldsymbol{k}_i)$ for $\\boldsymbol{k} = \\left\\lbrace (5, 0)^T, (0, 10)^T, (8, 8)^T \\right\\rbrace$."
   ]
  },
  {
   "cell_type": "code",
   "execution_count": null,
   "id": "009b6497-1d39-4e2c-9ea3-5e0fff1e94c2",
   "metadata": {},
   "outputs": [],
   "source": [
    "# Function definition\n",
    "\n",
    "def f(xv, yv, k):\n",
    "    N1 = len(xv)\n",
    "    N2 = len(yv)\n",
    "    z = np.zeros((N1, N2))\n",
    "    for i in range(N1):\n",
    "        for j in range(N2):\n",
    "            z[i][j] = 1 + .5*np.sin(2*np.pi*np.array([i, j])@k)\n",
    "    return z"
   ]
  },
  {
   "cell_type": "code",
   "execution_count": null,
   "id": "22ef8ed7-2666-437f-bed4-97540cc1e6f9",
   "metadata": {},
   "outputs": [],
   "source": [
    "N = 64\n",
    "k = np.array([[5,0], [0,10], [8,8]])\n",
    "x = np.linspace(0, 1, N)\n",
    "\n",
    "for j, i in enumerate(k):\n",
    "    z = f(x, x, i)\n",
    "    F = fft.fft2(z)\n",
    "    fig, axs = plt.subplots(1,2)\n",
    "    axs[0].imshow(z, cmap='gray')\n",
    "    axs[0].set_title(f\"$f_{j+1}$\")\n",
    "    axs[1].imshow(np.absolute(F), cmap='gray')\n",
    "    axs[1].set_title(f\"2d Fourier coefficients of $f_{j+1}$\")\n",
    "    plt.show()"
   ]
  },
  {
   "cell_type": "markdown",
   "id": "befb564b-132b-4413-b919-9f68ce8ae10a",
   "metadata": {},
   "source": [
    "As we can see, the Fourier coefficients take a very small part of the whole space. This would make sense as the functions are sine waves."
   ]
  },
  {
   "cell_type": "markdown",
   "id": "b2896153-3d4d-4d34-adcb-dbc457084233",
   "metadata": {},
   "source": [
    "### c)\n",
    "\n",
    "We consider the 2D Dirichlet-kernel, that is\n",
    "\n",
    "$$\n",
    "D_{\\boldsymbol{N}} (\\boldsymbol{x}) = D_{N_1}(x_1) D_{N_2}(x_2).\n",
    "$$\n",
    "\n",
    "Considering the discret case with $\\boldsymbol{N} = (64,64)^T$, we can see that $d_{ij} = d_i d_j$. We can thus use the form we found earlier to find the matrix discret 2d Dirichlet-kernel.\n",
    "\n",
    "We define a function `dirichlet_2d(n1, n2, N1, N2)`. By using multiplicity we can see that the 2d Dirichlet kernel also only contains the same elements and we can therefore let this element be $1$ and zero pad to get the right dimensions. "
   ]
  },
  {
   "cell_type": "code",
   "execution_count": null,
   "id": "152cbb76-3d03-4b68-9bca-2d8a03c82b05",
   "metadata": {},
   "outputs": [],
   "source": [
    "def dirichlet_2d_dft(n1, n2, N1, N2):\n",
    "    \"\"\"\n",
    "    Returns the (n1 x n2) Fourier transformed D_(N1, N2) by using D_(N1, N2) = D_N1 * D_N2.\n",
    "    \"\"\"    \n",
    "    dn = np.zeros((n1, n2))\n",
    "    dn[:N1, :N2] = 1\n",
    "    return dn"
   ]
  },
  {
   "cell_type": "code",
   "execution_count": null,
   "id": "c3c60496-eec1-4c00-9e0d-a34999a47c38",
   "metadata": {},
   "outputs": [],
   "source": [
    "data = Image.open(\"barbara.gif\")\n",
    "barbara = np.asarray(data)\n",
    "\n",
    "F = fft.fft2(barbara)\n",
    "plt.imshow(np.absolute(fft.ifft2(F)), cmap='gray')\n",
    "plt.title(\"Barbara\")\n",
    "plt.show()"
   ]
  },
  {
   "cell_type": "code",
   "execution_count": null,
   "id": "6faaf3ac-af50-4624-8e82-f294bb556b0d",
   "metadata": {},
   "outputs": [],
   "source": [
    "A = np.array([\n",
    "    [0, -1, 0],\n",
    "    [-1, 4, -1],\n",
    "    [0, -1, 0]\n",
    "])\n",
    "\n",
    "B = np.array([\n",
    "    [-1, 2, -1],\n",
    "    [-1, 2, -1],\n",
    "    [-1, 2, -1]\n",
    "])\n",
    "\n",
    "C = np.array([\n",
    "    [-1, -1, -1],\n",
    "    [2, 2, 2],\n",
    "    [-1, -1, -1]\n",
    "])\n",
    "\n",
    "N = [A, B, C]\n",
    "\n",
    "for i, j in zip(N, [\"A\", \"B\", \"C\"]):\n",
    "    H = sgn.fftconvolve(barbara, i)\n",
    "    plt.imshow(H, cmap='gray', vmin=0, vmax=1)\n",
    "    plt.title(f\"Barbara convolved with ${j}$\")\n",
    "    plt.show()\n",
    "\n",
    "\n",
    "N = 64\n",
    "n, _ = barbara.shape\n",
    "dn = dirichlet_2d_dft(n, n, N, N)\n",
    "H = dn * F\n",
    "plt.imshow(fft.ifft2(H).real, cmap='gray')\n",
    "plt.title(f\"Barbara convolved with $D_{ {N} }$\")\n",
    "plt.show()"
   ]
  },
  {
   "cell_type": "markdown",
   "id": "4294e926-ca6c-4f31-afa3-c50f018209ab",
   "metadata": {},
   "source": [
    "We can clearly see for $B$ and $C$ that they are detecting vertical and horizontal lines respectively. The convolution with $A$ seems to not detect vertical or horizontal contrast, but contrasts in general. We can use these convolutions to find contrasts in the image easier, which can be ver useful for certain types of pictures. The convolution with the Dirichlet-kernel seems to approximate the picture. As we know that the convolution with the Dirichlet-kernel in 1 dimension is the Fourier series of the function, in 2 dimensions it seems to be the same."
   ]
  },
  {
   "cell_type": "markdown",
   "id": "fa2ba2cc-6a74-42f1-9a41-37f883af9652",
   "metadata": {},
   "source": [
    "### d)\n",
    "\n",
    "We define `convolve_D(img, N)` that takes an image and a $N$ and convolves the image with the $D_{(N, N)}$."
   ]
  },
  {
   "cell_type": "code",
   "execution_count": null,
   "id": "3f59b6e1-5cfc-4ed2-8712-03b27fb771fa",
   "metadata": {},
   "outputs": [],
   "source": [
    "def convolve_D(img, N):\n",
    "    \"\"\"\n",
    "    Returns the convolution of img and D_(N, N) by multiplying in the Fourier domain.\n",
    "    \"\"\"\n",
    "    n, m = img.shape\n",
    "    dn = dirichlet_2d_dft(n, m, N, N)\n",
    "    F = fft.fft2(img)\n",
    "    conv = F*dn\n",
    "    return fft.ifft2(conv)"
   ]
  },
  {
   "cell_type": "code",
   "execution_count": null,
   "id": "3aa67ff5-0c17-4a43-ac95-ff9ef2589e8d",
   "metadata": {},
   "outputs": [],
   "source": [
    "data = Image.open(\"Yarimton-dithered.png\")\n",
    "yarimton = np.asarray(data)\n",
    "\n",
    "plt.imshow(yarimton, cmap='gray', vmin=0, vmax=1)\n",
    "plt.title(\"Yarimton\")\n",
    "plt.show()\n",
    "\n",
    "N = 67\n",
    "H = convolve_D(yarimton, N)\n",
    "plt.imshow(H.real, cmap='gray')\n",
    "plt.title(f\"Yarimton convolved with $D_{ {N} }$\")\n",
    "plt.show()"
   ]
  },
  {
   "cell_type": "code",
   "execution_count": null,
   "id": "ae8c3407-ab5f-4aba-b16d-c105c0e7e097",
   "metadata": {},
   "outputs": [],
   "source": [
    "lighthouse = np.asarray(Image.open(\"lighthouse-dithered.png\"))\n",
    "plt.imshow(lighthouse, cmap='gray')\n",
    "plt.title(\"Lighthouse\")\n",
    "plt.show()\n",
    "\n",
    "N = 648\n",
    "H = convolve_D(lighthouse, N)\n",
    "plt.imshow(H.real, cmap='gray')\n",
    "plt.title(f\"Lighthouse convolved with $D_{ {N} }$\")\n",
    "plt.show()"
   ]
  },
  {
   "cell_type": "code",
   "execution_count": null,
   "id": "e441d0ab-188a-4ef0-bf83-ec6a1430940a",
   "metadata": {},
   "outputs": [],
   "source": [
    "munkholmen = np.asarray(Image.open(\"munkholmen-dithered.png\"))\n",
    "plt.imshow(munkholmen, cmap='gray')\n",
    "plt.title(\"Munkholmen\")\n",
    "plt.show()\n",
    "\n",
    "N = 97\n",
    "H = convolve_D(munkholmen, N)\n",
    "plt.imshow(H.real, cmap='gray')\n",
    "plt.title(f\"Munkholmen convolved with $D_{ {N} }$\")\n",
    "plt.show()"
   ]
  },
  {
   "cell_type": "markdown",
   "id": "02f054f9-0a8c-42e8-8e53-0e6c6fa45778",
   "metadata": {},
   "source": [
    "By convolving with the Dirichlet-kernel we can somewhat eliminate the dithering. One major downside is that the picture is very approximated and it is not longer the same picture. I was not able to find a good filter to use, but I would imagine that there exists one you can convolve with the picture that removes the dithering."
   ]
  }
 ],
 "metadata": {
  "kernelspec": {
   "display_name": "Python 3 (ipykernel)",
   "language": "python",
   "name": "python3"
  },
  "language_info": {
   "codemirror_mode": {
    "name": "ipython",
    "version": 3
   },
   "file_extension": ".py",
   "mimetype": "text/x-python",
   "name": "python",
   "nbconvert_exporter": "python",
   "pygments_lexer": "ipython3",
   "version": "3.11.5"
  }
 },
 "nbformat": 4,
 "nbformat_minor": 5
}
