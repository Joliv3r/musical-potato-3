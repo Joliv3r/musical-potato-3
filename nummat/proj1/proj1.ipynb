{
 "cells": [
  {
   "cell_type": "code",
   "execution_count": null,
   "id": "bd19cd0b-b7d4-493d-908a-7cd88babb958",
   "metadata": {},
   "outputs": [],
   "source": [
    "import numpy as np\n",
    "import matplotlib.pyplot as plt\n",
    "import scipy.fft as fft"
   ]
  },
  {
   "cell_type": "markdown",
   "id": "9d4f8374-751f-450b-8f0a-2dcabb46357b",
   "metadata": {},
   "source": [
    "### 2h)"
   ]
  },
  {
   "cell_type": "code",
   "execution_count": null,
   "id": "3281cc3d-9065-44a1-8043-82967174b83b",
   "metadata": {},
   "outputs": [],
   "source": [
    "def transform(f, N, start=0.0):\n",
    "    \"\"\"\n",
    "    Returns N samples of f starting from start.\n",
    "    \"\"\"\n",
    "    stop = start+1\n",
    "    x = np.linspace(start, stop, N)\n",
    "    return f(x)"
   ]
  },
  {
   "cell_type": "code",
   "execution_count": null,
   "id": "2f48db74-6b78-4298-ad80-816e3d2a9bb7",
   "metadata": {},
   "outputs": [],
   "source": [
    "def f1(x):\n",
    "    return np.sin(8*np.pi*x)\n",
    "\n",
    "\n",
    "def f2(x):\n",
    "    return np.sin(32*np.pi*x) + np.cos(128*np.pi*x)\n",
    "\n",
    "\n",
    "def f3(x):\n",
    "    return x\n",
    "\n",
    "\n",
    "def f4(x):\n",
    "    return 1-np.absolute(x)"
   ]
  },
  {
   "cell_type": "code",
   "execution_count": null,
   "id": "e101df5e-06cf-4e5a-a06d-c21f1f4d4dfe",
   "metadata": {},
   "outputs": [],
   "source": [
    "N = [5, 17, 257]\n",
    "f = [f1, f2, f3, f4]\n",
    "\n",
    "for k, i in enumerate(f):\n",
    "    for j in N:\n",
    "        y = transform(i, j, -.5)\n",
    "        a = y.real\n",
    "        b = y.imag\n",
    "        x = np.linspace(-.5, .5, j)\n",
    "        plt.plot(x, a, label=\"$R(f)$\")\n",
    "        plt.plot(x, b, label=\"$I(f)$\")\n",
    "        y = fft.fft(y)\n",
    "        a = y.real\n",
    "        b = y.imag\n",
    "        plt.plot(x, a, label=\"$R(\\hat{f})$\")\n",
    "        plt.plot(x, b, label=\"$I(\\hat{f})$\")\n",
    "        plt.title(f\"$f_{k+1}$ with $N={j}$\")\n",
    "        plt.ylim(-1.5, 1.5)\n",
    "        plt.legend()\n",
    "        plt.show()"
   ]
  },
  {
   "cell_type": "markdown",
   "id": "72fa978b-2d67-4334-aa37-3266927807e8",
   "metadata": {},
   "source": [
    "### 2i)"
   ]
  },
  {
   "cell_type": "code",
   "execution_count": null,
   "id": "907b969e-f601-48d1-b0ea-0505d99c993b",
   "metadata": {},
   "outputs": [],
   "source": [
    "N = [17, 65, 257]\n",
    "\n",
    "for i in N:\n",
    "    x = np.linspace(-.5, .5, i)\n",
    "    y = fft.fftshift(fft.fft(transform(f2, i, -.5)))\n",
    "    a = y.real\n",
    "    b = y.imag\n",
    "    plt.plot(x, a, label=\"Real\")\n",
    "    plt.plot(x, b, label=\"Imag\")\n",
    "    plt.legend()\n",
    "    plt.title(f\"$f_2$ with $N={i}$\")\n",
    "    plt.show()"
   ]
  }
 ],
 "metadata": {
  "kernelspec": {
   "display_name": "Python 3 (ipykernel)",
   "language": "python",
   "name": "python3"
  },
  "language_info": {
   "codemirror_mode": {
    "name": "ipython",
    "version": 3
   },
   "file_extension": ".py",
   "mimetype": "text/x-python",
   "name": "python",
   "nbconvert_exporter": "python",
   "pygments_lexer": "ipython3",
   "version": "3.11.5"
  }
 },
 "nbformat": 4,
 "nbformat_minor": 5
}
