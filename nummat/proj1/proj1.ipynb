{
 "cells": [
  {
   "cell_type": "code",
   "execution_count": null,
   "id": "bd19cd0b-b7d4-493d-908a-7cd88babb958",
   "metadata": {},
   "outputs": [],
   "source": [
    "import numpy as np\n",
    "import matplotlib.pyplot as plt\n",
    "import scipy.fft as fft"
   ]
  },
  {
   "cell_type": "markdown",
   "id": "9d4f8374-751f-450b-8f0a-2dcabb46357b",
   "metadata": {
    "tags": []
   },
   "source": [
    "### 1h)"
   ]
  },
  {
   "cell_type": "code",
   "execution_count": null,
   "id": "3281cc3d-9065-44a1-8043-82967174b83b",
   "metadata": {},
   "outputs": [],
   "source": [
    "def transform(f, N, start=0.0):\n",
    "    \"\"\"\n",
    "    Returns N samples of f starting from start.\n",
    "    \"\"\"\n",
    "    stop = start+1\n",
    "    x = np.linspace(start, stop, N, endpoint=False)\n",
    "    return f(x)"
   ]
  },
  {
   "cell_type": "code",
   "execution_count": null,
   "id": "2f48db74-6b78-4298-ad80-816e3d2a9bb7",
   "metadata": {},
   "outputs": [],
   "source": [
    "def f1(x):\n",
    "    return np.sin(8*np.pi*x)\n",
    "\n",
    "\n",
    "def f2(x):\n",
    "    return np.sin(32*np.pi*x) + np.cos(128*np.pi*x)\n",
    "\n",
    "\n",
    "def f3(x):\n",
    "    return x\n",
    "\n",
    "\n",
    "def f4(x):\n",
    "    return 1-np.absolute(x)"
   ]
  },
  {
   "cell_type": "code",
   "execution_count": null,
   "id": "e101df5e-06cf-4e5a-a06d-c21f1f4d4dfe",
   "metadata": {},
   "outputs": [],
   "source": [
    "N = [5, 17, 257]\n",
    "f = [f1, f2, f3, f4]\n",
    "\n",
    "for k, i in enumerate(f):\n",
    "    x = np.linspace(-.5, .5, N[-1])\n",
    "    plt.plot(x, i(x))\n",
    "    plt.title(f\"$f_{k+1}$\")\n",
    "    plt.show()\n",
    "    for j in N:\n",
    "        y = transform(i, j, -.5)\n",
    "        a = y.real\n",
    "        b = y.imag\n",
    "        c = fft.fft(y)\n",
    "        n = np.arange(j)\n",
    "        a = c.real\n",
    "        b = c.imag\n",
    "        plt.plot(n, a, label=\"$R(\\hat{f})$\")\n",
    "        plt.plot(n, b, label=\"$I(\\hat{f})$\")\n",
    "        plt.title(f\"$f_{k+1}$ with $N={j}$\")\n",
    "        # plt.ylim(-1.5, 1.5)\n",
    "        plt.legend()\n",
    "        plt.show()"
   ]
  },
  {
   "cell_type": "markdown",
   "id": "72fa978b-2d67-4334-aa37-3266927807e8",
   "metadata": {
    "tags": []
   },
   "source": [
    "### 1i)"
   ]
  },
  {
   "cell_type": "code",
   "execution_count": null,
   "id": "907b969e-f601-48d1-b0ea-0505d99c993b",
   "metadata": {},
   "outputs": [],
   "source": [
    "N = [17, 65, 257]\n",
    "\n",
    "for i in N:\n",
    "    y = fft.fftshift(fft.fft(transform(f2, i, -.5)))\n",
    "    n = np.arange(-(i-1)/2, (i-1)/2+1)\n",
    "    a = y.real\n",
    "    b = y.imag\n",
    "    plt.plot(n, a, label=\"Real\")\n",
    "    plt.plot(n, b, label=\"Imag\")\n",
    "    plt.legend()\n",
    "    plt.title(f\"$f_2$ with $N={i}$\")\n",
    "    plt.show()\n",
    "\n",
    "\n",
    "y[64] = 0\n",
    "y[-65] = 0\n",
    "x = np.linspace(-.5, .5, i, endpoint=False)\n",
    "plt.plot(x, fft.ifft(fft.ifftshift(y)))\n",
    "# plt.plot(x, f2(x))\n",
    "plt.show()"
   ]
  },
  {
   "cell_type": "markdown",
   "id": "82845d57-b9e7-4f12-bca7-2e311de8b075",
   "metadata": {
    "tags": []
   },
   "source": [
    "## 2d)"
   ]
  },
  {
   "cell_type": "code",
   "execution_count": null,
   "id": "6ee26c71-de5a-4eea-81e9-6e0e52d8f7fa",
   "metadata": {},
   "outputs": [],
   "source": [
    "def dirichlet(N, n):\n",
    "    \"\"\"\n",
    "    Outputs the discret form of the Dirichlet-kernel of length n by using d_k = 2N-1 for k mod N = 0, and 0 otherwise.\n",
    "    \"\"\"\n",
    "    l = np.zeros(N, dtype=complex)\n",
    "    for i in range(-n, n+1):\n",
    "        for j in range(N):\n",
    "            l += np.exp(-2j*np.pi*i*j/N)\n",
    "    return np.array(l)"
   ]
  },
  {
   "cell_type": "code",
   "execution_count": null,
   "id": "e44db5ec-a170-4af4-8786-bf5304ddb7de",
   "metadata": {},
   "outputs": [],
   "source": [
    "N = 512\n",
    "n = 48\n",
    "\n",
    "y = transform(f2, N)\n",
    "c = fft.fftshift(fft.fft(y))\n",
    "dn = dirichlet(N, n)\n",
    "convolution = fft.ifftshift(c)*dn\n",
    "k = np.arange(-np.floor(N/2), np.floor(N/2))\n",
    "\n",
    "\n",
    "x = np.linspace(-.5, .5, N)\n",
    "plt.plot(k, c)\n",
    "plt.show()\n",
    "plt.plot(k, convolution)\n",
    "plt.show()\n",
    "\n",
    "x = np.linspace(-.5, .5, N)\n",
    "plt.plot(x, y)\n",
    "plt.show()\n",
    "plt.plot(x, fft.ifft(convolution))\n",
    "plt.show()\n",
    "# plt.plot(x, fft.ifft(convolve_h))\n",
    "# plt.show()"
   ]
  },
  {
   "cell_type": "markdown",
   "id": "a8bffcc9-6f3f-4377-a5ea-f585e99c06fe",
   "metadata": {},
   "source": [
    "## 2e)"
   ]
  },
  {
   "cell_type": "code",
   "execution_count": null,
   "id": "6a0302f1-387b-41dc-be1d-082ae5db4339",
   "metadata": {},
   "outputs": [],
   "source": [
    "data = np.loadtxt(\"project1-data/project1-1e-data.csv\", delimiter=',', skiprows=1)\n",
    "x = data[:,0]\n",
    "signal = data[:,1]\n",
    "N = len(signal)\n",
    "h = np.zeros(N)\n",
    "h[0] = -1\n",
    "h[1] = 2\n",
    "h[2] = -1\n",
    "# h = np.array([-1, 2, -1])\n",
    "\n",
    "plt.plot(x, signal)\n",
    "plt.show()\n",
    "\n",
    "c = fft.fft(signal)\n",
    "k = np.arange(N)\n",
    "dirch = dirichlet(N, n)\n",
    "convolve_d = np.convolve(dirch, signal, 'same')\n",
    "convolve_h = np.convolve(h, signal, 'same')\n",
    "plt.plot(x, convolve_h)\n",
    "plt.show()\n",
    "\n",
    "plt.plot(convolve_d)\n",
    "plt.show()\n",
    "\n",
    "conv = c*h\n",
    "plt.plot(x, fft.ifft(conv))\n",
    "plt.show()\n",
    "\n",
    "conv = c*dirch\n",
    "plt.plot(x, fft.ifft(conv))\n",
    "plt.show()"
   ]
  },
  {
   "cell_type": "markdown",
   "id": "67418688-db44-4cb2-b1e2-8e8a0c3c4cb8",
   "metadata": {
    "tags": []
   },
   "source": [
    "## 3b)"
   ]
  },
  {
   "cell_type": "code",
   "execution_count": null,
   "id": "009b6497-1d39-4e2c-9ea3-5e0fff1e94c2",
   "metadata": {},
   "outputs": [],
   "source": [
    "def f(xv, yv, k):\n",
    "    N1 = len(xv)\n",
    "    N2 = len(yv)\n",
    "    z = np.zeros((N1, N2))\n",
    "    for i in range(N1):\n",
    "        for j in range(N2):\n",
    "            z[i][j] = 1 + .5*np.sin(2*np.pi*np.array([i, j])@k)\n",
    "    return z"
   ]
  },
  {
   "cell_type": "code",
   "execution_count": null,
   "id": "22ef8ed7-2666-437f-bed4-97540cc1e6f9",
   "metadata": {},
   "outputs": [],
   "source": [
    "N = 64\n",
    "k = np.array([[5,0], [0,10], [8,8]])\n",
    "x = np.linspace(0, 1, N)\n",
    "\n",
    "z = f(x, x, k[1])\n",
    "\n",
    "plt.imshow(z)\n",
    "plt.show()"
   ]
  }
 ],
 "metadata": {
  "kernelspec": {
   "display_name": "Python 3 (ipykernel)",
   "language": "python",
   "name": "python3"
  },
  "language_info": {
   "codemirror_mode": {
    "name": "ipython",
    "version": 3
   },
   "file_extension": ".py",
   "mimetype": "text/x-python",
   "name": "python",
   "nbconvert_exporter": "python",
   "pygments_lexer": "ipython3",
   "version": "3.11.5"
  }
 },
 "nbformat": 4,
 "nbformat_minor": 5
}
