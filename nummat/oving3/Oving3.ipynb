{
 "cells": [
  {
   "cell_type": "markdown",
   "id": "3e5414e8-d89a-4749-b41a-ea78f78f4cb3",
   "metadata": {},
   "source": [
    "# Exercise \\#3\n",
    "*Jacob Oliver Bruun*"
   ]
  },
  {
   "cell_type": "markdown",
   "id": "968ab449-fa06-4d6f-a821-2132e8a8f3eb",
   "metadata": {
    "tags": []
   },
   "source": [
    "## Problem 1"
   ]
  },
  {
   "cell_type": "markdown",
   "id": "e0c7d1b4-3669-4ccd-a0ad-cac6d4e2d9df",
   "metadata": {},
   "source": [
    "### a)"
   ]
  },
  {
   "cell_type": "markdown",
   "id": "963f36b4-d605-453d-b60a-a1ae225ebdbb",
   "metadata": {},
   "source": [
    "#### 1)\n",
    "\n",
    "Let $A \\in \\mathbb{R}^{n\\times n}$ be invertible. First, we consider $f : \\mathbb{R}^n \\to \\mathbb{R},\\;\\; f(\\mathbf{x}) = ||\\mathbf{x}||_2$. We have that\n",
    "$$\n",
    "||\\mathbf{x}||_2 = || \\left( x_1, x_2, \\dots , x_n \\right) ||_2 = \\sqrt{x_1^2 + x_2^2 + \\dots + x_n^2}\n",
    "$$\n",
    "we can then find\n",
    "$$\n",
    "\\nabla f = \\left( \\frac{x_1}{\\sqrt{x_1^2 + x_2^2 + \\dots + x_n^2}} \\;\\; \\frac{x_2}{\\sqrt{x_1^2 + x_2^2 + \\dots + x_n^2}} \\;\\; \\dots \\;\\; \\frac{x_n}{\\sqrt{x_1^2 + x_2^2 + \\dots + x_n^2}} \\right)^T.\n",
    "$$"
   ]
  },
  {
   "cell_type": "markdown",
   "id": "a3917963-848e-4b38-a6df-4bdd2c577005",
   "metadata": {},
   "source": [
    "#### 2)\n",
    "\n",
    "Consider $F: \\mathbb{R}^n \\to \\mathbb{R}^n ,\\;\\; F(\\mathbf{x}) = A\\mathbf{x}$. We have that\n",
    "\n",
    "$$\n",
    "A\\mathbf{x} = \\begin{pmatrix} a_{11} x_1 + a_{12} x_2 + \\dots + a_{1n} x_n \\\\ a_{21} x_1 + a_{22} x_2 + \\dots + a_{2n} x_n \\\\ \\vdots \\\\ a_{n1} x_1 + a_{n2} x_2 + \\dots + a_{nn} x_n \\end{pmatrix}.\n",
    "$$\n",
    "\n",
    "We can then find the Jacobi matrix\n",
    "\n",
    "$$\n",
    "J_F =\n",
    "\\begin{pmatrix}\n",
    "    a_{11} & a_{12} & \\dots & a_{1n} \\\\\n",
    "    a_{21} & a_{22} & \\dots & a_{2n} \\\\\n",
    "    \\vdots & \\vdots & \\ddots & \\vdots \\\\\n",
    "    a_{n1} & a_{n2} & \\dots & a_{nn} \\\\\n",
    "\\end{pmatrix}\n",
    "= A.\n",
    "$$"
   ]
  },
  {
   "cell_type": "markdown",
   "id": "ab618664-ff16-45c6-a70f-3fe06ef7ed94",
   "metadata": {},
   "source": [
    "#### 3)\n",
    "\n",
    "Consider $f: \\mathbb{R}^n \\to \\mathbb{R},\\;\\; f(\\mathbf{x}) = ||A\\mathbf{x}||_2^2$. We have that\n",
    "\n",
    "$$\n",
    "||A\\mathbf{x}||_2^2 = \\left( a_{11} x_1 + a_{12} x_2 + \\dots + a_{1n} x_n \\right)^2 + \\left(a_{21} x_1 + a_{22} x_2 + \\dots + a_{2n} x_n \\right)^2 + \\dots + \\left( a_{n1} x_1 + a_{n2} x_2 + \\dots + a_{nn} x_n \\right)^2.\n",
    "$$\n",
    "\n",
    "We then find\n",
    "\n",
    "$$\n",
    "\\nabla f = 2\n",
    "\\begin{pmatrix}\n",
    "    a_{11} \\left( a_{11} x_1 + a_{12} x_2 + \\dots + a_{1n} x_n\\right) + a_{21} \\left( a_{21} x_1 + a_{22} x_2 + \\dots + a_{2n} x_n \\right) + \\dots + a_{n1} \\left(a_{n1} x_1 + a_{n2} x_2 + \\dots + a_{nn} x_n \\right) \\\\\n",
    "    a_{12} \\left( a_{11} x_1 + a_{12} x_2 + \\dots + a_{1n} x_n\\right) + a_{22} \\left( a_{21} x_1 + a_{22} x_2 + \\dots + a_{2n} x_n \\right) + \\dots + a_{n2} \\left(a_{n1} x_1 + a_{n2} x_2 + \\dots + a_{nn} x_n \\right) \\\\\n",
    "    \\vdots \\\\\n",
    "    a_{1n} \\left( a_{11} x_1 + a_{12} x_2 + \\dots + a_{1n} x_n\\right) + a_{2n} \\left( a_{21} x_1 + a_{22} x_2 + \\dots + a_{2n} x_n \\right) + \\dots + a_{nn} \\left(a_{n1} x_1 + a_{n2} x_2 + \\dots + a_{nn} x_n \\right) \\\\\n",
    "\\end{pmatrix}\n",
    "=\n",
    "\\begin{pmatrix}\n",
    "    \\sum_{j=1}^n 2a_{j1} \\left( \\sum_{i=1}^n a_{ji} x_i \\right) \\\\\n",
    "    \\sum_{j=1}^n 2a_{j2} \\left( \\sum_{i=1}^n a_{ji} x_i \\right) \\\\\n",
    "    \\vdots \\\\\n",
    "    \\sum_{j=1}^n 2a_{jn} \\left( \\sum_{i=1}^n a_{ji} x_i \\right) \\\\\n",
    "\\end{pmatrix}\n",
    "$$"
   ]
  },
  {
   "cell_type": "markdown",
   "id": "d73e052d-d172-45f9-ab50-b74db34d6c2a",
   "metadata": {},
   "source": [
    "#### 4)\n",
    "Consider $f : \\mathbb{R}^n \\to \\mathbb{R}, \\;\\; f(\\mathbf{x}) = (A\\mathbf{x}, \\mathbf{x}) = \\mathbf{x}^T A^T \\mathbf{x}$ where $(\\cdot, \\cdot)$ is the inner product. We can see that\n",
    "\n",
    "$$\n",
    "(A\\mathbf{x}, \\mathbf{x}) = \\mathbf{x}^T \\begin{pmatrix} a_{11} x_1 + a_{21} x_2 + \\dots + a_{n1} x_n \\\\ a_{12} x_1 + a_{22} x_2 + \\dots + a_{n2} x_n \\\\ \\vdots \\\\ a_{1n} x_1 + a_{2n} x_2 + \\dots + a_{nn} x_n \\end{pmatrix} = x_1 \\left( a_{11} x_1 + a_{21} x_2 + \\dots + a_{n1} x_n \\right) + x_2 \\left( a_{12} x_1 + a_{22} x_2 + \\dots + a_{n2} x_n \\right) + \\dots + x_n \\left( a_{1n} x_1 + a_{2n} x_2 + \\dots + a_{nn} x_n \\right).\n",
    "$$\n",
    "\n",
    "We then find\n",
    "\n",
    "$$\n",
    "\\nabla f =\n",
    "\\begin{pmatrix}\n",
    "    2a_{11} x_1 + \\left( a_{21} x_2 + \\dots + a_{n1} x_n \\right) + \\left( a_{12}x_2 + a_{13}x_3 + \\dots + a_{1n}x_n \\right) \\\\\n",
    "    2a_{22} x_2 + \\left( a_{12} x_1 + a_{32} x_3 + \\dots + a_{n2} x_n \\right) + \\left( a_{21} x_1 + a_{23} x_3 + \\dots + a_{2n} x_n \\right) \\\\\n",
    "    \\vdots \\\\\n",
    "    2a_{nn} x_n + \\left( a_{1n} x_1 + a_{2n} x_2 + \\dots + a_{nn} x_n \\right) + \\left( a_{n1} x_1 + a_{n2} x_2 + \\dots + a_{n(n-1)} x_{n-1} \\right)\n",
    "\\end{pmatrix}\n",
    "=\n",
    "\\begin{pmatrix}\n",
    "    \\sum_{i=1}^n x_1 \\left( a_{i1} + a_{1i} \\right) \\\\\n",
    "    \\sum_{i=1}^n x_2 \\left( a_{i2} + a_{2i} \\right) \\\\\n",
    "    \\vdots \\\\\n",
    "    \\sum_{i=1}^n x_n \\left( a_{in} + a_{ni} \\right) \\\\\n",
    "\\end{pmatrix}\n",
    "$$"
   ]
  },
  {
   "cell_type": "markdown",
   "id": "20cf5a6d-c33a-45e0-8fb3-72c0ce0da199",
   "metadata": {},
   "source": [
    "### b)\n",
    "\n",
    "Consider $f$ as defined in a)4. Let $A$ be symmetric, that is $A = A^T$. By definition $a_{ij} = a_{ji}$ and we get that\n",
    "\n",
    "$$\n",
    "\\nabla f = 2\n",
    "\\begin{pmatrix}\n",
    "    \\sum_{i=1}^n x_1 a_{i1} \\\\\n",
    "    \\sum_{i=1}^n x_2 a_{i2}\\\\\n",
    "    \\vdots \\\\\n",
    "    \\sum_{i=1}^n x_n a_{in} \\\\\n",
    "\\end{pmatrix}.\n",
    "$$"
   ]
  },
  {
   "cell_type": "markdown",
   "id": "b7b52305-b20e-445a-bc0a-ce2ce8858b2b",
   "metadata": {},
   "source": [
    "### c)\n",
    "\n",
    "Further from b) we can find\n",
    "\n",
    "$$\n",
    "\\nabla^2 f = \n",
    "\\begin{pmatrix}\n",
    "    \\sum_{i=1}^n a_{i1} & 0 & \\dots & 0 \\\\\n",
    "    0 & \\sum_{i=1}^n a_{i2} & \\ddots & \\vdots \\\\\n",
    "    \\vdots & \\ddots & \\ddots & 0 \\\\\n",
    "    0 & \\dots & 0 & \\sum_{i=1}^n a_{in} \\\\\n",
    "\\end{pmatrix}.\n",
    "$$\n",
    "\n",
    "Now consider $f$ as defined in a)3 with $A$ symmetric. we then have\n",
    "\n",
    "$$\n",
    "\\nabla^2 f =\n",
    "\\begin{pmatrix}\n",
    "    \\sum_{j=1}^n 2a_{j1}^2 & \\sum_{j=1}^n 2a_{j2}a_{j1} & \\dots & \\sum_{j=1}^n 2a_{jn}a_{j1} \\\\\n",
    "    \\sum_{j=1}^n 2a_{j1}a_{j2} & \\sum_{j=1}^n 2a_{j2}^2 & \\dots & \\sum_{j=1}^n 2a_{jn}a_{j2} \\\\\n",
    "    \\vdots & \\vdots & \\ddots & \\vdots \\\\\n",
    "    \\sum_{j=1}^n 2a_{j1}a_{jn} & \\sum_{j=1}^n 2a_{j2}a_{jn} & \\dots & \\sum_{j=1}^n 2a_{jn}^2 \\\\\n",
    "\\end{pmatrix}.\n",
    "$$"
   ]
  },
  {
   "cell_type": "markdown",
   "id": "6ea920ea-b336-460b-88cb-020ec64292d3",
   "metadata": {},
   "source": [
    "### d)\n",
    "\n",
    "Let $A \\in \\mathbb{R}^{m\\times n}, \\;\\; y \\in \\mathbb{R}^m$. Consider the function\n",
    "\n",
    "$$\n",
    "f(x) = \\frac{1}{2} || Ax - y ||_2^2 + \\mu ||x||_2^2\n",
    "$$\n",
    "\n",
    "for a $\\mu > 0$. We first see that\n",
    "\n",
    "$$\n",
    "Ax - y = \\begin{pmatrix} a_{11} x_1 + a_{12} x_2 + \\dots + a_{1n} x_n - y_1 \\\\ a_{21} x_1 + a_{22} x_2 + \\dots + a_{2n} x_n - y_2 \\\\ \\vdots \\\\ a_{n1} x_1 + a_{n2} x_2 + \\dots + a_{nn} x_n - y_n \\end{pmatrix}.\n",
    "$$\n",
    "\n",
    "Further we can find that\n",
    "\n",
    "$$\n",
    "f(x) = \\frac{1}{2} \\sum_{j=1}^n \\left[ \\left( \\sum_{i=1}^n a_{ji} x_i \\right) - y_j\\right]^2 + \\mu \\left( x_1^2 + x_2^2 + \\dots + x_n^2 \\right).\n",
    "$$\n",
    "\n",
    "We can first find the partial derivative of any $x_k$\n",
    "\n",
    "$$\n",
    "\\frac{\\partial f}{\\partial x_k} = \\sum_{j=1}^n \\left( a_{jk} x_k - y_j \\right) a_{jk} + 2\\mu x_k .\n",
    "$$\n",
    "\n",
    "We will extend this to\n",
    "\n",
    "$$\n",
    "\\nabla f =\n",
    "\\begin{pmatrix}\n",
    "    \\sum_{j=1}^n \\left( a_{j1} x_1 - y_j \\right) a_{j1} + 2\\mu x_1 \\\\\n",
    "    \\sum_{j=1}^n \\left( a_{j2} x_2 - y_j \\right) a_{j2} + 2\\mu x_2 \\\\\n",
    "    \\vdots \\\\\n",
    "    \\sum_{j=1}^n \\left( a_{jn} x_n - y_j \\right) a_{jn} + 2\\mu x_n \\\\\n",
    "\\end{pmatrix}\n",
    "$$\n",
    "\n",
    "and further\n",
    "\n",
    "$$\n",
    "\\nabla^2 f =\n",
    "\\begin{pmatrix}\n",
    "    \\sum_{j=1}^n a_{j1}^2 + 2\\mu & 0 & \\dots & 0 \\\\\n",
    "    0 & \\sum_{j=1}^n a_{j2}^2 + 2\\mu & \\ddots & \\vdots \\\\\n",
    "    \\vdots & \\ddots & \\ddots & 0 \\\\\n",
    "    0 & \\dots & 0 & \\sum_{j=1}^n a_{jn}^2 + 2\\mu \n",
    "\\end{pmatrix}.\n",
    "$$"
   ]
  },
  {
   "cell_type": "markdown",
   "id": "ca98bd2a-4d00-4f8f-a73f-c430beb6f5a6",
   "metadata": {
    "tags": []
   },
   "source": [
    "## Problem 2"
   ]
  },
  {
   "cell_type": "markdown",
   "id": "7f211f54-75f4-4f46-b196-0d5c1cbe8c4c",
   "metadata": {},
   "source": [
    "### a)\n",
    "\n",
    "We know that\n",
    "\n",
    "$$\n",
    "B_J = D^{-1} (U + L)\n",
    "$$\n",
    "\n",
    "and consider\n",
    "\n",
    "$$\n",
    "A = \\begin{bmatrix} C & I \\\\ I & C \\end{bmatrix} = D + U + L, \\;\\;\\;\n",
    "C =\n",
    "\\begin{bmatrix}\n",
    "    c_1 & 0 & \\dots & 0 \\\\\n",
    "    0 & \\ddots & \\ddots & \\vdots \\\\\n",
    "    \\vdots & \\ddots & \\ddots & 0 \\\\\n",
    "    0 & \\dots & 0 & c_n \n",
    "\\end{bmatrix}.\n",
    "$$\n",
    "\n",
    "We know that\n",
    "\n",
    "$$\n",
    "C^{-1} =\n",
    "\\begin{bmatrix}\n",
    "    1/c_1 & 0 & \\dots & 0 \\\\\n",
    "    0 & \\ddots & \\ddots & \\vdots \\\\\n",
    "    \\vdots & \\ddots & \\ddots & 0 \\\\\n",
    "    0 & \\dots & 0 & 1/c_n \n",
    "\\end{bmatrix}\n",
    ", \\;\\;\\;\n",
    "U + L =\n",
    "\\begin{bmatrix}\n",
    "    0 & I \\\\\n",
    "    I & 0\n",
    "\\end{bmatrix}\n",
    "$$\n",
    "\n",
    "thus\n",
    "\n",
    "$$\n",
    "B_J = \\begin{bmatrix} C^{-1} & 0 \\\\ 0 & C^{1} \\end{bmatrix} \\begin{bmatrix} 0 & I \\\\ I & 0 \\end{bmatrix} = \\begin{bmatrix} 0 & C^{-1} \\\\ C^{-1} & 0 \\end{bmatrix}\n",
    "$$"
   ]
  },
  {
   "cell_type": "markdown",
   "id": "8b4ca231-bea3-412f-a1c1-de8325b66a7a",
   "metadata": {},
   "source": [
    "### b)\n",
    "\n",
    "The methods converges if $\\rho (B_J) < 1$. That is, all eigenvalues of $B_J$ must be less then one. The eigenvalues of $B_J$ are $\\lambda$ such that\n",
    "\n",
    "$$\n",
    "\\det \\begin{bmatrix} -\\lambda I & C^{-1} \\\\ C^{-1} & - \\lambda I \\end{bmatrix} = \\det \\left( - \\lambda I + C^{-1} \\right) \\det \\left( - \\lambda I - C^{-1} \\right) = 0\n",
    "$$\n",
    "\n",
    "we then have\n",
    "\n",
    "$$\n",
    "\\lambda_{\\pm i} = \\pm \\frac{1}{c_i}.\n",
    "$$\n",
    "\n",
    "For this to converge we need $|c_i| > 1, \\;\\; \\forall i$."
   ]
  },
  {
   "cell_type": "markdown",
   "id": "d3a51224-d5b2-4d38-af78-ea0c3067e854",
   "metadata": {},
   "source": [
    "### c)\n",
    "\n",
    "By another approach the method converges if $A$ is strictly diagonal dominant. That is $|a_{ii}| > \\sum_{j\\neq i} |a_{ij}|$. As all the non diagonal elements are 1 and there are exactly one of each such element per row we have that $|{c_i}| > 1, \\; \\forall i$.\n",
    "\n",
    "It was much easier using this second approach as the matrix was very simply defined.\n"
   ]
  },
  {
   "cell_type": "markdown",
   "id": "2f914b36-4af1-4656-bd40-d0452f2d6b05",
   "metadata": {},
   "source": [
    "## Problem 3"
   ]
  },
  {
   "cell_type": "markdown",
   "id": "19e4496f-efcd-4896-b7c6-88acfc5896c0",
   "metadata": {},
   "source": [
    "Consider $A \\in \\mathbb{R}^{n \\times n}$ with the elements $a_{ij} = 3^{-|i-j|} + 2^{-i-j} + 10^{-6} \\alpha$, where $\\alpha$ is a random, uniformly distributed number between 0 and 1. Let $\\mathbf{b} = (1, \\dots , 1)^T \\in \\mathbb{R}^n $."
   ]
  },
  {
   "cell_type": "code",
   "execution_count": null,
   "id": "b2b6b714-ff54-487c-8034-c6c4a6775ec2",
   "metadata": {},
   "outputs": [],
   "source": [
    "import numpy as np\n",
    "import time "
   ]
  },
  {
   "cell_type": "code",
   "execution_count": null,
   "id": "c182d2de-f892-411c-8edf-c74470d7a1f5",
   "metadata": {},
   "outputs": [],
   "source": [
    "def Amatrix(i, j):\n",
    "    return 3**(-abs(i-j)) + 2**(-i-j) + np.random.uniform()*1e-6\n",
    "\n",
    "\n",
    "np.random.seed(0)\n",
    "n = 2000\n",
    "A = np.zeros((n,n))\n",
    "for i in range(n):\n",
    "    for j in range(n):\n",
    "        A[i][j] = Amatrix(i,j)\n",
    "b = np.ones(n)"
   ]
  },
  {
   "cell_type": "code",
   "execution_count": null,
   "id": "a2379c8c-cde1-42d2-aac3-7a561b4a64e2",
   "metadata": {},
   "outputs": [],
   "source": [
    "def richardson(A, b, w=0.5, maxiter=5000, tol=1e-7):\n",
    "    start = time.time()\n",
    "    r = b - A@b\n",
    "    x = b + w*r\n",
    "    count = 1\n",
    "    while count < maxiter and abs(np.sum(r)/np.sum(x)) > tol:\n",
    "        r = b - A@x\n",
    "        x = x + w*r\n",
    "        count += 1\n",
    "    t = time.time()-start\n",
    "    print(f\"Time: {t}\")\n",
    "    print(f\"Iterations: {count}\")\n",
    "    error = A@x - b\n",
    "    # print(f\"Error: {error}\")\n",
    "    print(f\"Mean error: {np.sum(abs(error))/len(error)}\")\n",
    "    return x\n",
    "\n",
    "\n",
    "richardson(A,b)"
   ]
  },
  {
   "cell_type": "code",
   "execution_count": null,
   "id": "58c6ffdd-910b-4aa3-ae19-dfcc70acc14a",
   "metadata": {},
   "outputs": [],
   "source": [
    "def gausseidel(A, b, maxiter=5000, tol=1e-7):\n",
    "    \"\"\"\n",
    "    This algorithm was found at the Wikipedia article for the Gauss-Seidel method [1].\n",
    "    It is verified that this is indeed the Gauss-Seidel method and some tweeks have been made to variable names and such to be more consistent through this article.\n",
    "    \"\"\"\n",
    "    start = time.time()\n",
    "    count = maxiter\n",
    "    r = np.zeros_like(b)\n",
    "    for i in range(1, maxiter):\n",
    "        x = np.zeros_like(r)\n",
    "        for i in range(A.shape[0]):\n",
    "            s1 = np.dot(A[i, :i], x[:i])\n",
    "            s2 = np.dot(A[i, i + 1 :], r[i + 1 :])\n",
    "            x[i] = (b[i] - s1 - s2) / A[i, i]\n",
    "        if np.allclose(x, r, rtol=tol):\n",
    "            count = i\n",
    "            break\n",
    "        r = x\n",
    "    t = time.time()-start\n",
    "    print(f\"Time: {t}\")\n",
    "    print(f\"Iterations: {count}\")\n",
    "    error = A@x - b\n",
    "    # print(f\"Error: {error}\")\n",
    "    print(f\"Mean error: {np.sum(abs(error))/len(error)}\")\n",
    "    return x\n",
    "\n",
    "\n",
    "gausseidel(A, b)"
   ]
  },
  {
   "cell_type": "code",
   "execution_count": null,
   "id": "c58a8bcd-e10d-46b2-980b-0def9fdecaba",
   "metadata": {},
   "outputs": [],
   "source": [
    "def steepestdescent(A, b, maxiter=5000, tol=1e-7):\n",
    "    start = time.time()\n",
    "    x = b\n",
    "    r = b - A@x\n",
    "    count = 1\n",
    "    while count < maxiter and abs(np.sum(r)/np.sum(x)) > tol:\n",
    "        wk = (r.T@r)/(r.T@A@r)\n",
    "        x = x + wk*r\n",
    "        r = r - wk*A@r\n",
    "        count += 1\n",
    "    \n",
    "    t = time.time()-start\n",
    "    print(f\"Time: {t}\")\n",
    "    print(f\"Iterations: {count}\")\n",
    "    error = A@x - b\n",
    "    # print(f\"Error: {error}\")\n",
    "    print(f\"Mean error: {np.sum(abs(error))/len(error)}\")\n",
    "    return x\n",
    "\n",
    "\n",
    "steepestdescent(A, b)"
   ]
  },
  {
   "cell_type": "markdown",
   "id": "a955ef52-d4d6-4031-a0e4-01e6c94df2b6",
   "metadata": {},
   "source": [
    "## Sources\n",
    "1. Wikipedia. *Gauss-Seidel Method*. https://en.wikipedia.org/wiki/Gauss%E2%80%93Seidel_method\n"
   ]
  }
 ],
 "metadata": {
  "kernelspec": {
   "display_name": "Python 3 (ipykernel)",
   "language": "python",
   "name": "python3"
  },
  "language_info": {
   "codemirror_mode": {
    "name": "ipython",
    "version": 3
   },
   "file_extension": ".py",
   "mimetype": "text/x-python",
   "name": "python",
   "nbconvert_exporter": "python",
   "pygments_lexer": "ipython3",
   "version": "3.11.5"
  }
 },
 "nbformat": 4,
 "nbformat_minor": 5
}
