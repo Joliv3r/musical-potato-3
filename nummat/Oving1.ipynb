{
 "cells": [
  {
   "cell_type": "markdown",
   "id": "1094e592-9289-4961-b89a-4959f5783087",
   "metadata": {},
   "source": [
    "## Task 2a)\n",
    "\n",
    "We must show that $M_2 (\\mathbb{R})$ has the following properties:\n",
    "\n",
    "* Vector addition must be associative and communatative\n",
    "* $\\exists \\mathbf{0} \\in M_2 (\\mathbb{R}) \\text{ s. t. } \\mathbf{0} + \\mathbf{v} = \\mathbf{v}\\;\\;\\; \\forall \\mathbf{v} \\in M_2 (\\mathbb{R})$\n",
    "* $0 \\cdot \\mathbf{v} = \\mathbf{0}, \\;\\; 1\\cdot \\mathbf{v} = \\mathbf{v}\\;\\;\\; \\forall \\mathbf{v} \\in M_2 (\\mathbb{R})$\n",
    "* $\\forall \\mathbf{v} \\in M_2 (\\mathbb{R}) \\; \\exists (-\\mathbf{v}) \\in M_2 (\\mathbb{R}) \\text{ s. t. } \\mathbf{v} + (-\\mathbf{v}) = \\mathbf{0}$\n",
    "* The left and right distributive law holds for multiplication over addition.\n",
    "* $\\forall \\alpha, \\beta \\in \\mathbb{R}, \\; \\forall \\mathbf{v} \\in M_2 (\\mathbb{R}), \\; (\\alpha \\beta) \\mathbf{v} = \\alpha (\\beta \\mathbf{v})$\n",
    "\n",
    "We know that vector addition is a componentwise operation and since addition in $\\mathbb{R}$ is both commutative and associative vector addition also has to be associative and commutative.\n",
    "\n",
    "Let\n",
    "$$\n",
    "\\mathbf{0} = \\left( \\begin{array}{cc}0 & 0 \\\\ 0 & 0 \\\\ \\end{array} \\right), \\; \\mathbf{v} =  \\left( \\begin{array}{cc} a & b \\\\ c & d \\\\ \\end{array} \\right) \\in M_2(\\mathbb{R})\n",
    "$$\n",
    "we can then easily see that $\\mathbf{0} + \\mathbf{v} = \\mathbf{v}$. \\\\\n",
    "\n",
    "Since $a\\mathbf{v}, a\\in\\mathbb{R}, \\mathbf{v} \\in M_2 (\\mathbb{R})$ will correspond to multiplication elementwise, the third axiom will hold for $a=0$ and $a=1$. \\\\\n",
    "\n",
    "Now let\n",
    "$$\n",
    "\\mathbf{u} = \\left( \\begin{array}{cc} -a & -b \\\\ -c & -d \\\\ \\end{array} \\right) \\in M_2(\\mathbb{R})\n",
    "$$\n",
    "then we can easily see that $\\mathbf{v} + \\mathbf{u} = \\mathbf{0}$ and therefore $\\mathbf{u} = -\\mathbf{v}$. \\\\\n",
    "\n",
    "Again as both multiplication with a scalar and vector addition are elementwise operations, and the distributive law holds in $\\mathbb{R}$, this must also hold in $M_2(\\mathbb{R})$. By the same logic the last axiom will hold."
   ]
  },
  {
   "cell_type": "markdown",
   "id": "4138c7a8-9303-4b6a-8b7a-9cced517f313",
   "metadata": {},
   "source": [
    "## Task 2b)\n",
    "\n",
    "Now let us define\n",
    "$$\n",
    "\\langle A, B \\rangle = \\text{tr} \\left( AB^T \\right).\n",
    "$$\n",
    "For this to be an inner product we must show that:\n",
    "\n",
    "* $\\langle A, A \\rangle \\geq 0 \\; \\forall A \\in M_2(\\mathbb(R)$\n",
    "* $\\langle A, A \\rangle = 0 \\Leftrightarrow A = 0$\n",
    "* $\\langle A+B, C \\rangle = \\langle A, C \\rangle + \\langle B, C \\rangle \\; \\forall A,B,C \\in M_2 (\\mathbb{R})$\n",
    "* $\\langle \\lambda A, B\\rangle = \\lambda \\langle A, B \\rangle \\; \\forall \\lambda \\in \\mathbb{R}, A,B \\in M_2 (\\mathbb{R})$\n",
    "\n",
    "Let\n",
    "$$\n",
    "A = \\left( \\begin{array}{cc} a & b \\\\ c & d \\\\ \\end{array} \\right) \\in M_2(\\mathbb{R})\n",
    "$$\n",
    "then\n",
    "$$\n",
    "\\langle A, A \\rangle = \\text{tr} \\left[ \\left( \\begin{array}{cc} a & b \\\\ c & d \\\\ \\end{array} \\right) \\left( \\begin{array}{cc} a & c \\\\ b & d \\\\ \\end{array} \\right) \\right]\n",
    "= \\text{tr} \\left[ \\left( \\begin{array}{cc} a^2 + b^2 & ac + bd \\\\ ca + db & c^2 + d^2 \\\\ \\end{array} \\right) \\right] = a^2 + b^2 + c^2 + d^2 \\geq 0.\n",
    "$$\n",
    "\n",
    "We also know that $a^2 + b^2 + c^2 + d^2 = 0, \\; a,b,c,d \\in \\mathbb{R}$ only has solutions $a,b,c,d = 0$, and thus the second point is also shown. \\\\\n",
    "\n",
    "We can see that\n",
    "$$\n",
    "\\langle A+B, C \\rangle = \\text{tr} \\left[ (A+B)C^T \\right] = \\text{tr} \\left[ AC^T + BC^T \\right] = \\text{tr} \\left[ AC^T \\right] \\text{tr} \\left[ BC^T \\right] = \\langle A, C \\rangle + \\langle B, C \\rangle.\n",
    "$$\n",
    "\n",
    "Further we see that\n",
    "$$\n",
    "\\langle \\lambda A, B \\rangle = \\text{tr} \\left[ (\\lambda A) B^T \\right] = \\text{tr} \\left[ \\lambda \\left(A B^T\\right) \\right] = \\lambda \\text{tr} \\left[ \\left(A B^T\\right) \\right] = \\lambda \\langle A, B \\rangle .\n",
    "$$\n",
    "\n",
    "Thus $\\langle \\cdot , \\cdot \\rangle$ is an inner product."
   ]
  },
  {
   "cell_type": "markdown",
   "id": "cbf1797d-050b-467c-9370-fa9e4957cf09",
   "metadata": {},
   "source": [
    "## Task 2c)\n",
    "\n",
    "Using the Gram-Schmidt process we have\n",
    "$$\n",
    "e_k = \\frac{v_k - \\langle v_k, e_1 \\rangle e_1 - \\dots - \\langle v_k, e_{k-1} \\rangle e_{k-1}}{ || v_k - \\langle v_k, e_1 \\rangle - \\dots - \\langle v_k, e_{k-1} \\rangle e_{k-1} ||}\n",
    "$$\n",
    "for $e_k$ the k-th basis vector and where $||v||, \\; v\\in M_2 (\\mathbb{R})$ is defined as\n",
    "$$\n",
    "||v||^2 = \\langle v, v \\rangle \\implies ||v|| = \\sqrt{\\langle v, v \\rangle}.\n",
    "$$\n",
    "We then get\n",
    "$$\n",
    "\\begin{split}\n",
    "e_1 &= \\frac{v_1}{||v_1||} = \\left( \\begin{array}{cc} 1 & 0 \\\\ 0 & 0 \\\\ \\end{array} \\right) \\\\\n",
    "e_2 &= \\frac{v_2 - \\langle v_2, e_1 \\rangle e_1}{||v_2 - \\langle v_2, e_1 \\rangle e_1 ||} = \\left( \\begin{array}{cc} 0 & 1 \\\\ 0 & 0 \\\\ \\end{array} \\right) \\\\\n",
    "e_3 &= \\dots = \\left( \\begin{array}{cc} 0 & 0 \\\\ 3/5 & 4/5 \\\\ \\end{array} \\right) \\\\\n",
    "e_4 &= \\dots = \n",
    "\\end{split}\n",
    "$$"
   ]
  },
  {
   "cell_type": "markdown",
   "id": "c610d7bc-ed58-4eb4-b57a-9f9be7f668f5",
   "metadata": {},
   "source": [
    "## Task 3a)\n",
    "\n",
    "Let $A \\in M_2 (\\mathbb{K})$ be skew symmetric. Generally\n",
    "$$\n",
    "A = \\left( \\begin{array}{cc} a & b \\\\ -b & d \\\\ \\end{array} \\right), \\;\\;\\; a, b, d \\in \\mathbb{K}\n",
    "$$\n",
    "we can see generally\n",
    "$$\n",
    "A^2 = \\left( \\begin{array}{cc} a^2 - b^2 & ab + bd \\\\ -ba - db & -b^2 + d^2 \\\\ \\end{array} \\right).\n",
    "$$\n",
    "For this to be skew symmetric we must have\n",
    "$$\n",
    "\\begin{split}\n",
    "ab + bd &= -(-ba - db) \\\\\n",
    "ab + bd &= ba + db\n",
    "\\end{split}\n",
    "$$\n",
    "This holds $\\forall a,b,d \\in \\mathbb{K}$ as long as $\\mathbb{K}$ is commutative under multiplication."
   ]
  },
  {
   "cell_type": "markdown",
   "id": "6414a2b6-ec80-4326-b739-652869fba3aa",
   "metadata": {},
   "source": [
    "## Task 3b)\n",
    "\n",
    "Let $B \\in M_2 (\\mathbb{K})$ also skew symmetric and can write it generally as\n",
    "$$\n",
    "B = \\left( \\begin{array}{cc} \\alpha & \\beta \\\\ -\\beta & \\delta \\\\ \\end{array} \\right), \\;\\;\\; \\alpha, \\beta, \\delta \\in \\mathbb{K}\n",
    "$$\n",
    "we can check the product\n",
    "$$\n",
    "AB = \\left( \\begin{array}{cc} a & b \\\\ -b & d \\\\ \\end{array} \\right) \\left( \\begin{array}{cc} \\alpha & \\beta \\\\ -\\beta & \\delta \\\\ \\end{array} \\right)\n",
    "   = \\left( \\begin{array}{cc} a\\alpha - b\\beta & a\\beta + b\\delta \\\\ -b\\alpha - d\\beta & -b\\beta + d\\delta \\\\ \\end{array} \\right).\n",
    "$$\n",
    "Let $\\alpha = \\beta = \\delta = a = b = 1, \\; d = 2$ we then have a non skew symmetric matrix."
   ]
  },
  {
   "cell_type": "markdown",
   "id": "4df51548-5176-4638-8b0e-bcdebf7b5e60",
   "metadata": {},
   "source": [
    "## Task 3c)\n",
    "\n"
   ]
  }
 ],
 "metadata": {
  "kernelspec": {
   "display_name": "Python 3 (ipykernel)",
   "language": "python",
   "name": "python3"
  },
  "language_info": {
   "codemirror_mode": {
    "name": "ipython",
    "version": 3
   },
   "file_extension": ".py",
   "mimetype": "text/x-python",
   "name": "python",
   "nbconvert_exporter": "python",
   "pygments_lexer": "ipython3",
   "version": "3.11.4"
  }
 },
 "nbformat": 4,
 "nbformat_minor": 5
}
