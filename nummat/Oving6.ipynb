{
 "cells": [
  {
   "cell_type": "markdown",
   "id": "03910e86-d10b-4a00-9a26-d6be1baf0a6f",
   "metadata": {},
   "source": [
    "# Exercise \\#6\n",
    "*Jacob Oliver Bruun*"
   ]
  },
  {
   "cell_type": "code",
   "execution_count": null,
   "id": "6fcee9e6-0e23-4710-b6c4-af0ad849c7a6",
   "metadata": {},
   "outputs": [],
   "source": [
    "import numpy as np"
   ]
  },
  {
   "cell_type": "markdown",
   "id": "e481796b-595f-403a-b7ac-7da37835dddb",
   "metadata": {},
   "source": [
    "## Problem 1"
   ]
  },
  {
   "cell_type": "markdown",
   "id": "f316bf98-2e4b-4cb1-9dc4-f1f701e1fd06",
   "metadata": {},
   "source": [
    "We will consider the integral\n",
    "\n",
    "$$\n",
    "    I = \\int_0^3 \\frac{1}{2+2x} dx.\n",
    "$$\n",
    "\n",
    "And we will explore the Romberg scheme."
   ]
  },
  {
   "cell_type": "markdown",
   "id": "ee3e9c64-c7af-4bbf-968a-108408c29a81",
   "metadata": {},
   "source": [
    "### a)"
   ]
  },
  {
   "cell_type": "markdown",
   "id": "dafae745-5e05-47fd-a683-56d25a04ced8",
   "metadata": {},
   "source": [
    "First we check analytically\n",
    "\n",
    "$$\n",
    "    I = \\frac{1}{2} \\int_0^3 \\frac{1}{1+x} dx = \\frac{1}{2} \\ln (x+1) \\big|_0^3 = \\frac{1}{2} \\ln 4 = \\ln 2\n",
    "$$"
   ]
  },
  {
   "cell_type": "markdown",
   "id": "a0e1481a-ca7b-4d4d-a148-75148ad87cd9",
   "metadata": {},
   "source": [
    "### b)"
   ]
  },
  {
   "cell_type": "markdown",
   "id": "3aa4a283-c400-40e3-a9bd-16f1e33fbe7c",
   "metadata": {},
   "source": [
    "We use that\n",
    "\n",
    "$$\n",
    "\\begin{split}\n",
    "    A_{m, 0} &= \\frac{1}{2} A_{m-1,0} + h_m \\sum_{k=1}^{2^{m-1}} f(a + (2k-1)h_n), \\;\\; m \\geq 1 \\\\\n",
    "    A_{m, q+1} &= \\frac{4^{q+1} A_{m,q} - A_{m-1, q}}{4^{q+1} - 1}\n",
    "\\end{split}\n",
    "$$\n",
    "\n",
    "with\n",
    "\n",
    "$$\n",
    "    A_{0,0} = \\frac{b-a}{2} (f(a) + f(b)) = \\frac{15}{16}.\n",
    "$$\n",
    "\n",
    "We can now continue and we get\n",
    "\n",
    "$$\n",
    "\\begin{split}\n",
    "    A_{1,0} &= \\frac{1}{2} A_{0,0} + \\frac{3}{2} f\\left( \\frac{3}{2} \\right) = \\frac{123}{160} \\\\\n",
    "    A_{2,0} &= \\frac{1}{2}A_{1,0} + \\frac{3}{4} \\left[ f\\left( \\frac{3}{4} \\right) + f \\left( \\frac{9}{4} \\right) \\right] = 0.714045 \\\\\n",
    "    A_{1,1} &= \\frac{4 A_{1,0} - A_{0,0}}{3} = 0.7125 \\\\\n",
    "    A_{2,1} &= \\frac{4 A_{2,0} - A_{1,0}}{3} = 0.695810 \\\\\n",
    "    A_{2,2} &= \\frac{16 A_{2,1} - A{1,1}}{15} = 0.694698.\n",
    "\\end{split}\n",
    "$$\n",
    "\n",
    "We have the error\n",
    "\n",
    "$$\n",
    "    E_{2,2} = |A_{2,2} - \\ln 2| = 1.5506\\cdot 10^{-3}\n",
    "$$"
   ]
  },
  {
   "cell_type": "markdown",
   "id": "e808d76e-c59f-4d02-952d-d87e71152bf2",
   "metadata": {},
   "source": [
    "### c)"
   ]
  },
  {
   "cell_type": "code",
   "execution_count": null,
   "id": "a35e586b-7c7f-464c-a254-029724fc6694",
   "metadata": {},
   "outputs": [],
   "source": [
    "def romberg(a, b, n, f):\n",
    "    n += 1\n",
    "    A = np.zeros((n,n))\n",
    "    for i in range(n):\n",
    "        y = np.linspace(a, b, 2**(i))\n",
    "        A[i,0] = np.trapz(f(y), y)\n",
    "    for i in range(1, n):\n",
    "        for j in range(i-1, n):\n",
    "            A[j,i] = (4**(i) * A[j,i-1] - A[j-1, i-1]) / (4**(i) - 1)\n",
    "    return A[n-1,n-1]"
   ]
  },
  {
   "cell_type": "code",
   "execution_count": null,
   "id": "bc96394c-7ac8-45b0-bbd2-ea0662f15f78",
   "metadata": {},
   "outputs": [],
   "source": [
    "def fun(x):\n",
    "    return 1/(2+2*x)"
   ]
  },
  {
   "cell_type": "code",
   "execution_count": null,
   "id": "ce1e0abc-bd5b-4475-9d90-174ee438c7bb",
   "metadata": {},
   "outputs": [],
   "source": [
    "romberg(0, 3, 6, fun)"
   ]
  },
  {
   "cell_type": "markdown",
   "id": "bd1913b8-7a8b-4cc0-8ab4-8e2d381f0de9",
   "metadata": {},
   "source": [
    "## Problem 2"
   ]
  },
  {
   "cell_type": "markdown",
   "id": "5f620ec1-2a99-420a-8fa4-b0ae571fc61f",
   "metadata": {},
   "source": [
    "Let $G = \\text{span} \\left\\lbrace 1, \\sin x, \\cos \\frac{x}{2} \\right\\rbrace$ on $[0, \\pi]$. We want to determine the weights $w_0, w_1, w_2$ for the quadrature formula\n",
    "\n",
    "$$\n",
    "    I_3 (f) = w_0 f(0) + w_1 f\\left( \\frac{\\pi}{2} \\right) + w_2 f(\\pi)\n",
    "$$\n",
    "\n",
    "such that $I_3$ is exact for all $f\\in G$.\n",
    "\n",
    "Let $f\\in G$, then we have that\n",
    "\n",
    "$$\n",
    "    f = c_0 + c_1 \\sin x + c_2 \\cos \\frac{x}{2}, \\;\\; c_0, c_1, c_2 \\in \\mathbb{R}.\n",
    "$$\n",
    "\n",
    "For $I_3$ to be exact, we must have that $I_3 (f) = I (f), \\; \\forall f \\in G$. We can see that\n",
    "\n",
    "$$\n",
    "    I (f) = \\int_0^\\pi f(x) dx = \\left[ c_0 x - c_1 \\cos x + 2c_2 \\sin \\frac{x}{2} \\right]_0^\\pi\n",
    "    = \\pi c_0 - 2c_1 - 2c_2.\n",
    "$$\n",
    "\n",
    "We further find that\n",
    "\n",
    "$$\n",
    "\\begin{split}\n",
    "    f(0) &= c_0 + c_2 \\\\\n",
    "    f\\left( \\frac{\\pi}{2} \\right) &= c_0 + c_1 + \\frac{\\sqrt{2}}{2} c_2 \\\\\n",
    "    f(\\pi) &= c_0.\n",
    "\\end{split}\n",
    "$$\n",
    "\n",
    "Thus we must have the weights\n",
    "\n",
    "$$\n",
    "    w_0 = \\pi - \\frac{8 + \\sqrt{2}}{2}, w_1 = -2, w_2 = -\\frac{4 + \\sqrt{2}}{2}.\n",
    "$$"
   ]
  },
  {
   "cell_type": "markdown",
   "id": "4f15682b-6a5d-4563-a494-7fa45afdb1d0",
   "metadata": {},
   "source": [
    "## Problem 3"
   ]
  },
  {
   "cell_type": "markdown",
   "id": "7bad3fec-376f-463a-8626-a5f821451fbc",
   "metadata": {},
   "source": [
    "### a)"
   ]
  },
  {
   "cell_type": "markdown",
   "id": "c787aa57-9182-4c8f-91b5-0d0a8ae432d1",
   "metadata": {},
   "source": [
    "We want to find a quadrature formula of the form\n",
    "\n",
    "$$\n",
    "    \\int_0^1 xf(x) dx = \\sum_{i=0}^n A_i f(x_i)\n",
    "$$\n",
    "\n",
    "with $n=1$, that is exact for all $f\\in \\mathcal{P}_3$.\n",
    "\n",
    "Want to find orthogonal polynomials using Gram-Schmidt, using the inner product\n",
    "\n",
    "$$\n",
    "    \\langle f, g \\rangle = \\int_0^1 x f(x) g(x) dx\n",
    "$$\n",
    "\n",
    "Let $p_0 = 1$, then\n",
    "\n",
    "$$\n",
    "\\begin{split}\n",
    "    p_1 &= x - \\frac{\\langle 1, x \\rangle}{\\langle 1, 1 \\rangle} = x - \\frac{2}{3}\\\\\n",
    "    p_2 &= x^2 - \\frac{\\langle p_1, x^2 \\rangle}{\\langle p_1, p_1 \\rangle} p_1 - \\frac{\\langle 1, x^2 \\rangle}{\\langle 1, 1 \\rangle}.\n",
    "\\end{split}\n",
    "$$\n",
    "\n",
    "We can see that\n",
    "\n",
    "$$\n",
    "\\begin{split}\n",
    "    \\langle p_1, x^2 \\rangle &= \\int_0^1 x^3 \\left( x - \\frac{2}{3} \\right) dx = \\frac{1}{30} \\\\\n",
    "    \\langle p_1, p_1 \\rangle &= \\int_0^1 \\left( x^3 - \\frac{4}{3} x^2 + \\frac{4}{9}x \\right) dx = \\frac{1}{4} - \\frac{4}{9} + \\frac{2}{9} = \\frac{1}{36}\n",
    "\\end{split}\n",
    "$$\n",
    "\n",
    "and thus we have\n",
    "\n",
    "$$\n",
    "    p_2 = x^2 - \\frac{6}{5} x + \\frac{3}{10}.\n",
    "$$\n",
    "\n",
    "We now can use that $x_0, x_1$ are zeros of $p_2(x)$ and the weights are on the form\n",
    "\n",
    "$$\n",
    "    A_i = \\int_0^1 x \\frac{x - x_j}{x_i - x_j} dx = \\frac{1}{3(x_i - x_j)} - \\frac{x_j}{2(x_i - x_j)}\n",
    "$$\n",
    "\n",
    "for $i \\neq j$. We find $x_0, x_1$ by\n",
    "\n",
    "$$\n",
    "    x = \\frac{\\frac{6}{5} \\pm \\sqrt{ \\frac{6}{25} }}{2} = \\frac{3}{5} \\pm \\frac{\\sqrt{6}}{10}.\n",
    "$$\n",
    "\n",
    "We denote $x_0$ as the smallest $x$, then by calculation done on calculator,\n",
    "\n",
    "$$\n",
    "    A_0 = \\frac{9-\\sqrt{6}}{36}, \\;\\; A_1 = \\frac{9 + \\sqrt{6}}{36}.\n",
    "$$"
   ]
  },
  {
   "cell_type": "markdown",
   "id": "edc971b1-1b5a-4a3f-8810-7cca5ed5452f",
   "metadata": {},
   "source": [
    "### b)"
   ]
  },
  {
   "cell_type": "markdown",
   "id": "d32bf372-d789-451b-9e81-31d8f6a9c745",
   "metadata": {},
   "source": [
    "We now use this formula to integrate\n",
    "\n",
    "$$\n",
    "    \\int_0^1 x \\sin x dx \\approx A_0 \\sin x_0 + A_1 \\sin x_1.\n",
    "$$"
   ]
  },
  {
   "cell_type": "code",
   "execution_count": null,
   "id": "07cf5826-f966-45bb-8368-f3e4dbe49de0",
   "metadata": {},
   "outputs": [],
   "source": [
    "def f(x):\n",
    "    return np.sin(x)"
   ]
  },
  {
   "cell_type": "code",
   "execution_count": null,
   "id": "3676c1f7-a462-4529-9b47-ebb1e3d7cc10",
   "metadata": {},
   "outputs": [],
   "source": [
    "A0 = (9 - np.sqrt(6))/(36)\n",
    "A1 = (9 + np.sqrt(6))/(36)\n",
    "\n",
    "x0 = (6 - np.sqrt(6))/(10)\n",
    "x1 = (6 + np.sqrt(6))/(10)"
   ]
  },
  {
   "cell_type": "code",
   "execution_count": null,
   "id": "6550c0f6-6e15-4dec-b7a9-458fe77e2d10",
   "metadata": {},
   "outputs": [],
   "source": [
    "def intQ(f):\n",
    "    return A0*f(x0) + A1*f(x1)"
   ]
  },
  {
   "cell_type": "code",
   "execution_count": null,
   "id": "ebdb546a-97ba-4d67-8e12-0785957d3d17",
   "metadata": {},
   "outputs": [],
   "source": [
    "intQ(f)"
   ]
  },
  {
   "cell_type": "markdown",
   "id": "5f498a4d-a439-406e-8895-81a544432af0",
   "metadata": {},
   "source": [
    "We can check the analytical solution, and find using WolframAlpha that\n",
    "\n",
    "$$\n",
    "    \\int_0^1 x \\sin x dx = \\sin 1 - \\cos 1.\n",
    "$$\n",
    "\n",
    "Thus we can find the error\n",
    "\n",
    "$$\n",
    "    | I - I_{1,w} | = 3.8 \\cdot 10^{-5}.\n",
    "$$"
   ]
  }
 ],
 "metadata": {
  "kernelspec": {
   "display_name": "Python 3 (ipykernel)",
   "language": "python",
   "name": "python3"
  },
  "language_info": {
   "codemirror_mode": {
    "name": "ipython",
    "version": 3
   },
   "file_extension": ".py",
   "mimetype": "text/x-python",
   "name": "python",
   "nbconvert_exporter": "python",
   "pygments_lexer": "ipython3",
   "version": "3.11.5"
  }
 },
 "nbformat": 4,
 "nbformat_minor": 5
}
